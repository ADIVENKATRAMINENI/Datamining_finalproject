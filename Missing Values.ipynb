{
 "cells": [
  {
   "cell_type": "markdown",
   "id": "e8e136e3",
   "metadata": {},
   "source": [
    "# 1 Load Libraries"
   ]
  },
  {
   "cell_type": "code",
   "execution_count": 2,
   "id": "c0bd43a8",
   "metadata": {},
   "outputs": [],
   "source": [
    "import numpy as np\n",
    "import pandas as pd\n",
    "import matplotlib.pylab as plt\n",
    "from sklearn.impute import SimpleImputer\n",
    "from sklearn.preprocessing import LabelEncoder"
   ]
  },
  {
   "cell_type": "markdown",
   "id": "ca723a90",
   "metadata": {},
   "source": [
    "# 2 Data Preparation"
   ]
  },
  {
   "cell_type": "code",
   "execution_count": 58,
   "id": "3d9c749f",
   "metadata": {},
   "outputs": [],
   "source": [
    "train_transaction = pd.read_csv('C:/Users/ar194371/Documents/Data Mining/train_transaction.csv')\n",
    "train_identity = pd.read_csv('C:/Users/ar194371/Documents/Data Mining/train_identity.csv')\n",
    "\n",
    "test_transaction = pd.read_csv('C:/Users/ar194371/Documents/Data Mining/test_transaction.csv')\n",
    "test_identity = pd.read_csv('C:/Users/ar194371/Documents/Data Mining/test_identity.csv')"
   ]
  },
  {
   "cell_type": "code",
   "execution_count": 5,
   "id": "901fa6e5",
   "metadata": {},
   "outputs": [],
   "source": [
    "test_identity.columns = train_identity.columns # unify columns of test_identity and train_identity, eg. id-01 to id_01"
   ]
  },
  {
   "cell_type": "code",
   "execution_count": 6,
   "id": "b014fae0",
   "metadata": {},
   "outputs": [
    {
     "name": "stdout",
     "output_type": "stream",
     "text": [
      "shape of train_transaction is: (590540, 394)\n",
      "shape of test_transaction is: (506691, 393)\n",
      "shape of train_identity is: (144233, 41)\n",
      "shape of test_identity is: (141907, 41)\n"
     ]
    }
   ],
   "source": [
    "print('shape of train_transaction is:', train_transaction.shape)\n",
    "print('shape of test_transaction is:', test_transaction.shape)\n",
    "print('shape of train_identity is:', train_identity.shape)\n",
    "print('shape of test_identity is:', test_identity.shape)"
   ]
  },
  {
   "cell_type": "code",
   "execution_count": 7,
   "id": "f7b4b03a",
   "metadata": {},
   "outputs": [],
   "source": [
    "## Function to reduce the DF size\n",
    "def reduce_mem_usage(df, verbose=True):\n",
    "    numerics = ['int16', 'int32', 'int64', 'float16', 'float32', 'float64']\n",
    "    start_mem = df.memory_usage().sum() / 1024**2    \n",
    "    for col in df.columns:\n",
    "        col_type = df[col].dtypes\n",
    "        if col_type in numerics:\n",
    "            c_min = df[col].min()\n",
    "            c_max = df[col].max()\n",
    "            if str(col_type)[:3] == 'int':\n",
    "                if c_min > np.iinfo(np.int8).min and c_max < np.iinfo(np.int8).max:\n",
    "                    df[col] = df[col].astype(np.int8)\n",
    "                elif c_min > np.iinfo(np.int16).min and c_max < np.iinfo(np.int16).max:\n",
    "                    df[col] = df[col].astype(np.int16)\n",
    "                elif c_min > np.iinfo(np.int32).min and c_max < np.iinfo(np.int32).max:\n",
    "                    df[col] = df[col].astype(np.int32)\n",
    "                elif c_min > np.iinfo(np.int64).min and c_max < np.iinfo(np.int64).max:\n",
    "                    df[col] = df[col].astype(np.int64)  \n",
    "            else:\n",
    "                if c_min > np.finfo(np.float16).min and c_max < np.finfo(np.float16).max:\n",
    "                    df[col] = df[col].astype(np.float16)\n",
    "                elif c_min > np.finfo(np.float32).min and c_max < np.finfo(np.float32).max:\n",
    "                    df[col] = df[col].astype(np.float32)\n",
    "                else:\n",
    "                    df[col] = df[col].astype(np.float64)    \n",
    "    end_mem = df.memory_usage().sum() / 1024**2\n",
    "    if verbose: print('Mem. usage decreased to {:5.2f} Mb ({:.1f}% reduction)'.format(end_mem, 100 * (start_mem - end_mem) / start_mem))\n",
    "    return df"
   ]
  },
  {
   "cell_type": "code",
   "execution_count": 8,
   "id": "d084afaa",
   "metadata": {},
   "outputs": [
    {
     "name": "stdout",
     "output_type": "stream",
     "text": [
      "Mem. usage decreased to 542.35 Mb (69.4% reduction)\n",
      "Mem. usage decreased to 25.86 Mb (42.7% reduction)\n"
     ]
    }
   ],
   "source": [
    "## Reducing memory of train sets\n",
    "train_transaction = reduce_mem_usage(train_transaction)\n",
    "train_identity = reduce_mem_usage(train_identity)"
   ]
  },
  {
   "cell_type": "markdown",
   "id": "93ce57ae",
   "metadata": {},
   "source": [
    "# 2.2 Drop rows"
   ]
  },
  {
   "cell_type": "markdown",
   "id": "b7983013",
   "metadata": {},
   "source": [
    "2.2.1 Train Identity"
   ]
  },
  {
   "cell_type": "code",
   "execution_count": 9,
   "id": "d7a38ee3",
   "metadata": {},
   "outputs": [
    {
     "name": "stdout",
     "output_type": "stream",
     "text": [
      "shape before dropping train_identity rows: (144233, 41)\n"
     ]
    }
   ],
   "source": [
    "print('shape before dropping train_identity rows:', train_identity.shape)"
   ]
  },
  {
   "cell_type": "code",
   "execution_count": 10,
   "id": "899ebb28",
   "metadata": {},
   "outputs": [
    {
     "name": "stdout",
     "output_type": "stream",
     "text": [
      "number low missing (<= 50%):  134833\n",
      "number many missing (> 50%):  9400\n"
     ]
    }
   ],
   "source": [
    "total_rows = train_identity.shape[0]\n",
    "total_cols = train_identity.shape[1]\n",
    "low_missing_train_id_rows = []      # lower than 50% missing values\n",
    "many_missing_train_id_rows = []     # more than 50% missing\n",
    "\n",
    "for row in range(total_rows):\n",
    "    null_percent = train_identity.iloc[row].isnull().sum() / total_cols\n",
    "    if(null_percent > 0.5):\n",
    "        many_missing_train_id_rows.append(row)\n",
    "    else:\n",
    "        low_missing_train_id_rows.append(row)\n",
    "\n",
    "print(\"number low missing (<= 50%): \", len(low_missing_train_id_rows))\n",
    "print(\"number many missing (> 50%): \", len(many_missing_train_id_rows))"
   ]
  },
  {
   "cell_type": "code",
   "execution_count": 11,
   "id": "103231bf",
   "metadata": {},
   "outputs": [
    {
     "name": "stdout",
     "output_type": "stream",
     "text": [
      "shape after dropping train_identity rows: (134833, 41)\n"
     ]
    }
   ],
   "source": [
    "train_id_row_drop = train_identity.drop(many_missing_train_id_rows)\n",
    "print('shape after dropping train_identity rows:', train_id_row_drop.shape)"
   ]
  },
  {
   "cell_type": "markdown",
   "id": "55f2afa2",
   "metadata": {},
   "source": [
    "2.2.2 Test Identity"
   ]
  },
  {
   "cell_type": "code",
   "execution_count": 12,
   "id": "a9070711",
   "metadata": {},
   "outputs": [
    {
     "name": "stdout",
     "output_type": "stream",
     "text": [
      "shape before dropping test_identity rows: (141907, 41)\n"
     ]
    }
   ],
   "source": [
    "print('shape before dropping test_identity rows:', test_identity.shape)"
   ]
  },
  {
   "cell_type": "code",
   "execution_count": 13,
   "id": "489b640b",
   "metadata": {},
   "outputs": [
    {
     "name": "stdout",
     "output_type": "stream",
     "text": [
      "number low missing (<= 50%):  131078\n",
      "number many missing (> 50%):  10829\n"
     ]
    }
   ],
   "source": [
    "total_rows = test_identity.shape[0]\n",
    "total_cols = test_identity.shape[1]\n",
    "low_missing_test_id_rows = []      # lower than 50% missing values\n",
    "many_missing_test_id_rows = []     # more than 50% missing\n",
    "\n",
    "for row in range(total_rows):\n",
    "    null_percent = test_identity.iloc[row].isnull().sum() / total_cols\n",
    "    if(null_percent > 0.5):\n",
    "        many_missing_test_id_rows.append(row)\n",
    "    else:\n",
    "        low_missing_test_id_rows.append(row)\n",
    "\n",
    "print(\"number low missing (<= 50%): \", len(low_missing_test_id_rows))\n",
    "print(\"number many missing (> 50%): \", len(many_missing_test_id_rows))"
   ]
  },
  {
   "cell_type": "code",
   "execution_count": 14,
   "id": "ccb6ad7d",
   "metadata": {},
   "outputs": [
    {
     "name": "stdout",
     "output_type": "stream",
     "text": [
      "shape after dropping test_identity rows: (131078, 41)\n"
     ]
    }
   ],
   "source": [
    "test_id_row_drop = test_identity.drop(many_missing_test_id_rows)\n",
    "print('shape after dropping test_identity rows:', test_id_row_drop.shape)"
   ]
  },
  {
   "cell_type": "markdown",
   "id": "34c8e616",
   "metadata": {},
   "source": [
    "2.2.3 Train Transaction"
   ]
  },
  {
   "cell_type": "code",
   "execution_count": 13,
   "id": "7a81182d",
   "metadata": {},
   "outputs": [
    {
     "name": "stdout",
     "output_type": "stream",
     "text": [
      "shape before dropping train_transaction rows: (590540, 394)\n"
     ]
    }
   ],
   "source": [
    "print('shape before dropping train_transaction rows:', train_transaction.shape)"
   ]
  },
  {
   "cell_type": "code",
   "execution_count": 16,
   "id": "9ff2bd5a",
   "metadata": {},
   "outputs": [
    {
     "name": "stdout",
     "output_type": "stream",
     "text": [
      "number low missing (<= 50%):  553287\n",
      "number many missing (> 50%):  37253\n"
     ]
    }
   ],
   "source": [
    "total_rows = train_transaction.shape[0]\n",
    "total_cols = train_transaction.shape[1]\n",
    "low_missing_train_t_rows = []      # lower than 50% missing values\n",
    "many_missing_train_t_rows = []     # more than 50% missing\n",
    "\n",
    "for row in range(total_rows):\n",
    "    null_percent = train_transaction.iloc[row].isnull().sum() / total_cols\n",
    "    if(null_percent > 0.5):\n",
    "        many_missing_train_t_rows.append(row)\n",
    "    else:\n",
    "        low_missing_train_t_rows.append(row)\n",
    "\n",
    "print(\"number low missing (<= 50%): \", len(low_missing_train_t_rows))\n",
    "print(\"number many missing (> 50%): \", len(many_missing_train_t_rows))"
   ]
  },
  {
   "cell_type": "code",
   "execution_count": 17,
   "id": "86b1cf51",
   "metadata": {},
   "outputs": [
    {
     "name": "stdout",
     "output_type": "stream",
     "text": [
      "shape after dropping train_transaction rows: (553287, 394)\n"
     ]
    }
   ],
   "source": [
    "train_transaction_row_drop = train_transaction.drop(many_missing_train_t_rows)\n",
    "print('shape after dropping train_transaction rows:', train_transaction_row_drop.shape)"
   ]
  },
  {
   "cell_type": "markdown",
   "id": "89a65b1a",
   "metadata": {},
   "source": [
    "2.2.4 Test Transaction"
   ]
  },
  {
   "cell_type": "code",
   "execution_count": 18,
   "id": "c7cc6765",
   "metadata": {},
   "outputs": [
    {
     "name": "stdout",
     "output_type": "stream",
     "text": [
      "shape before dropping test_transaction rows: (506691, 393)\n"
     ]
    }
   ],
   "source": [
    "print('shape before dropping test_transaction rows:', test_transaction.shape)"
   ]
  },
  {
   "cell_type": "code",
   "execution_count": 19,
   "id": "1453b082",
   "metadata": {},
   "outputs": [
    {
     "name": "stdout",
     "output_type": "stream",
     "text": [
      "number low missing (<= 50%):  499806\n",
      "number many missing (> 50%):  6885\n"
     ]
    }
   ],
   "source": [
    "total_rows = test_transaction.shape[0]\n",
    "total_cols = test_transaction.shape[1]\n",
    "low_missing_test_t_rows = []      # lower than 50% missing values\n",
    "many_missing_test_t_rows = []     # more than 50% missing\n",
    "\n",
    "for row in range(total_rows):\n",
    "    null_percent = test_transaction.iloc[row].isnull().sum() / total_cols\n",
    "    if(null_percent > 0.5):\n",
    "        many_missing_test_t_rows.append(row)\n",
    "    else:\n",
    "        low_missing_test_t_rows.append(row)\n",
    "\n",
    "print(\"number low missing (<= 50%): \", len(low_missing_test_t_rows))\n",
    "print(\"number many missing (> 50%): \", len(many_missing_test_t_rows))"
   ]
  },
  {
   "cell_type": "code",
   "execution_count": 21,
   "id": "6bfa558e",
   "metadata": {},
   "outputs": [
    {
     "name": "stdout",
     "output_type": "stream",
     "text": [
      "shape after dropping test_transaction rows: (499806, 393)\n"
     ]
    }
   ],
   "source": [
    "test_transaction_row_drop = test_transaction.drop(many_missing_test_t_rows)\n",
    "print('shape after dropping test_transaction rows:', test_transaction_row_drop.shape)"
   ]
  },
  {
   "cell_type": "code",
   "execution_count": 22,
   "id": "ade441ff",
   "metadata": {},
   "outputs": [
    {
     "name": "stdout",
     "output_type": "stream",
     "text": [
      "shape of train_transaction_row_drop is: (553287, 394)\n",
      "shape of test_transaction_row_drop is: (499806, 393)\n",
      "shape of train_identity_row_drop is: (134833, 41)\n",
      "shape of test_identity_row_drop is: (131078, 41)\n"
     ]
    }
   ],
   "source": [
    "print('shape of train_transaction_row_drop is:', train_transaction_row_drop.shape)\n",
    "print('shape of test_transaction_row_drop is:', test_transaction_row_drop.shape)\n",
    "print('shape of train_identity_row_drop is:', train_id_row_drop.shape)\n",
    "print('shape of test_identity_row_drop is:', test_id_row_drop.shape)"
   ]
  },
  {
   "cell_type": "code",
   "execution_count": 23,
   "id": "acb54688",
   "metadata": {},
   "outputs": [],
   "source": [
    "transaction = pd.concat([train_transaction_row_drop, test_transaction_row_drop])\n",
    "identity = pd.concat([train_id_row_drop, test_id_row_drop])"
   ]
  },
  {
   "cell_type": "code",
   "execution_count": 24,
   "id": "41bf227d",
   "metadata": {},
   "outputs": [],
   "source": [
    "transaction_org = transaction\n",
    "identity_org = identity"
   ]
  },
  {
   "cell_type": "code",
   "execution_count": 23,
   "id": "2a47e1e7",
   "metadata": {},
   "outputs": [
    {
     "name": "stdout",
     "output_type": "stream",
     "text": [
      "no duplicates in transaction: True\n",
      "no duplicates in identity: True\n"
     ]
    }
   ],
   "source": [
    "#make sure there are no duplicate columns in transaction and identity\n",
    "trans_col = []\n",
    "id_col = []\n",
    "for col in identity.columns:\n",
    "    id_col.append(col)\n",
    "for col in transaction.columns:\n",
    "    trans_col.append(col)\n",
    "trans_set = [*set(trans_col)]\n",
    "id_set = [*set(id_col)]\n",
    "\n",
    "print(\"no duplicates in transaction:\",len(trans_col)==len(trans_set))\n",
    "print(\"no duplicates in identity:\",len(id_col)==len(id_set))"
   ]
  },
  {
   "cell_type": "markdown",
   "id": "c7e51df3",
   "metadata": {},
   "source": [
    "# 2.3 Feature Analysis"
   ]
  },
  {
   "cell_type": "markdown",
   "id": "44dba643",
   "metadata": {},
   "source": [
    "2.3.1 Identity"
   ]
  },
  {
   "cell_type": "code",
   "execution_count": 25,
   "id": "5db81e54",
   "metadata": {},
   "outputs": [
    {
     "name": "stdout",
     "output_type": "stream",
     "text": [
      "['id_12', 'id_15', 'id_16', 'id_23', 'id_27', 'id_28', 'id_29', 'id_30', 'id_31', 'id_33', 'id_34', 'id_35', 'id_36', 'id_37', 'id_38', 'DeviceType', 'DeviceInfo']\n",
      "number categorical identity features:  17 \n",
      "\n",
      "['TransactionID', 'id_01', 'id_02', 'id_03', 'id_04', 'id_05', 'id_06', 'id_07', 'id_08', 'id_09', 'id_10', 'id_11', 'id_13', 'id_14', 'id_17', 'id_18', 'id_19', 'id_20', 'id_21', 'id_22', 'id_24', 'id_25', 'id_26', 'id_32']\n",
      "number numerical identity features:  24\n"
     ]
    }
   ],
   "source": [
    "c = (identity.dtypes == 'object')\n",
    "n = (identity.dtypes != 'object')\n",
    "cat_id_cols = list(c[c].index) # a list of categorical features of identity\n",
    "num_id_cols = list(n[n].index) # a list of numerical features of identity\n",
    "\n",
    "print(cat_id_cols)\n",
    "print(\"number categorical identity features: \", len(cat_id_cols), \"\\n\")\n",
    "print(num_id_cols)\n",
    "print(\"number numerical identity features: \", len(num_id_cols))"
   ]
  },
  {
   "cell_type": "markdown",
   "id": "8f85f21c",
   "metadata": {},
   "source": [
    "2.3.2 Transaction"
   ]
  },
  {
   "cell_type": "code",
   "execution_count": 26,
   "id": "ccca9a6c",
   "metadata": {},
   "outputs": [
    {
     "name": "stdout",
     "output_type": "stream",
     "text": [
      "['ProductCD', 'card4', 'card6', 'P_emaildomain', 'R_emaildomain', 'M1', 'M2', 'M3', 'M4', 'M5', 'M6', 'M7', 'M8', 'M9']\n",
      "number categorical transaction features:  14 \n",
      "\n",
      "['TransactionID', 'isFraud', 'TransactionDT', 'TransactionAmt', 'card1', 'card2', 'card3', 'card5', 'addr1', 'addr2', 'dist1', 'dist2', 'C1', 'C2', 'C3', 'C4', 'C5', 'C6', 'C7', 'C8', 'C9', 'C10', 'C11', 'C12', 'C13', 'C14', 'D1', 'D2', 'D3', 'D4', 'D5', 'D6', 'D7', 'D8', 'D9', 'D10', 'D11', 'D12', 'D13', 'D14', 'D15', 'V1', 'V2', 'V3', 'V4', 'V5', 'V6', 'V7', 'V8', 'V9', 'V10', 'V11', 'V12', 'V13', 'V14', 'V15', 'V16', 'V17', 'V18', 'V19', 'V20', 'V21', 'V22', 'V23', 'V24', 'V25', 'V26', 'V27', 'V28', 'V29', 'V30', 'V31', 'V32', 'V33', 'V34', 'V35', 'V36', 'V37', 'V38', 'V39', 'V40', 'V41', 'V42', 'V43', 'V44', 'V45', 'V46', 'V47', 'V48', 'V49', 'V50', 'V51', 'V52', 'V53', 'V54', 'V55', 'V56', 'V57', 'V58', 'V59', 'V60', 'V61', 'V62', 'V63', 'V64', 'V65', 'V66', 'V67', 'V68', 'V69', 'V70', 'V71', 'V72', 'V73', 'V74', 'V75', 'V76', 'V77', 'V78', 'V79', 'V80', 'V81', 'V82', 'V83', 'V84', 'V85', 'V86', 'V87', 'V88', 'V89', 'V90', 'V91', 'V92', 'V93', 'V94', 'V95', 'V96', 'V97', 'V98', 'V99', 'V100', 'V101', 'V102', 'V103', 'V104', 'V105', 'V106', 'V107', 'V108', 'V109', 'V110', 'V111', 'V112', 'V113', 'V114', 'V115', 'V116', 'V117', 'V118', 'V119', 'V120', 'V121', 'V122', 'V123', 'V124', 'V125', 'V126', 'V127', 'V128', 'V129', 'V130', 'V131', 'V132', 'V133', 'V134', 'V135', 'V136', 'V137', 'V138', 'V139', 'V140', 'V141', 'V142', 'V143', 'V144', 'V145', 'V146', 'V147', 'V148', 'V149', 'V150', 'V151', 'V152', 'V153', 'V154', 'V155', 'V156', 'V157', 'V158', 'V159', 'V160', 'V161', 'V162', 'V163', 'V164', 'V165', 'V166', 'V167', 'V168', 'V169', 'V170', 'V171', 'V172', 'V173', 'V174', 'V175', 'V176', 'V177', 'V178', 'V179', 'V180', 'V181', 'V182', 'V183', 'V184', 'V185', 'V186', 'V187', 'V188', 'V189', 'V190', 'V191', 'V192', 'V193', 'V194', 'V195', 'V196', 'V197', 'V198', 'V199', 'V200', 'V201', 'V202', 'V203', 'V204', 'V205', 'V206', 'V207', 'V208', 'V209', 'V210', 'V211', 'V212', 'V213', 'V214', 'V215', 'V216', 'V217', 'V218', 'V219', 'V220', 'V221', 'V222', 'V223', 'V224', 'V225', 'V226', 'V227', 'V228', 'V229', 'V230', 'V231', 'V232', 'V233', 'V234', 'V235', 'V236', 'V237', 'V238', 'V239', 'V240', 'V241', 'V242', 'V243', 'V244', 'V245', 'V246', 'V247', 'V248', 'V249', 'V250', 'V251', 'V252', 'V253', 'V254', 'V255', 'V256', 'V257', 'V258', 'V259', 'V260', 'V261', 'V262', 'V263', 'V264', 'V265', 'V266', 'V267', 'V268', 'V269', 'V270', 'V271', 'V272', 'V273', 'V274', 'V275', 'V276', 'V277', 'V278', 'V279', 'V280', 'V281', 'V282', 'V283', 'V284', 'V285', 'V286', 'V287', 'V288', 'V289', 'V290', 'V291', 'V292', 'V293', 'V294', 'V295', 'V296', 'V297', 'V298', 'V299', 'V300', 'V301', 'V302', 'V303', 'V304', 'V305', 'V306', 'V307', 'V308', 'V309', 'V310', 'V311', 'V312', 'V313', 'V314', 'V315', 'V316', 'V317', 'V318', 'V319', 'V320', 'V321', 'V322', 'V323', 'V324', 'V325', 'V326', 'V327', 'V328', 'V329', 'V330', 'V331', 'V332', 'V333', 'V334', 'V335', 'V336', 'V337', 'V338', 'V339']\n",
      "number numerical transaction features:  380\n"
     ]
    }
   ],
   "source": [
    "c = (transaction.dtypes == 'object')\n",
    "n = (transaction.dtypes != 'object')\n",
    "cat_trans_cols = list(c[c].index) # a list of categorical features of transaction\n",
    "num_trans_cols = list(n[n].index) # a list of numerical features of transaction\n",
    "\n",
    "print(cat_trans_cols)\n",
    "print(\"number categorical transaction features: \", len(cat_trans_cols), \"\\n\")\n",
    "print(num_trans_cols)\n",
    "print(\"number numerical transaction features: \", len(num_trans_cols))"
   ]
  },
  {
   "cell_type": "code",
   "execution_count": 27,
   "id": "74def9fb",
   "metadata": {},
   "outputs": [],
   "source": [
    "del train_transaction, train_identity, test_transaction, test_identity"
   ]
  },
  {
   "cell_type": "markdown",
   "id": "72925b54",
   "metadata": {},
   "source": [
    "# 3 Missing Values"
   ]
  },
  {
   "cell_type": "markdown",
   "id": "4830367e",
   "metadata": {},
   "source": [
    "3.1 Identifying Missing Values"
   ]
  },
  {
   "cell_type": "code",
   "execution_count": 28,
   "id": "5099ae6a",
   "metadata": {},
   "outputs": [
    {
     "name": "stdout",
     "output_type": "stream",
     "text": [
      "There are 30 columns in identity dataset with missing values.\n",
      "There are 389 columns in transaction dataset with missing values.\n"
     ]
    }
   ],
   "source": [
    "print(f'There are {identity.isnull().any().sum()} columns in identity dataset with missing values.')\n",
    "print(f'There are {transaction.isnull().any().sum()} columns in transaction dataset with missing values.')"
   ]
  },
  {
   "cell_type": "code",
   "execution_count": 28,
   "id": "52bb318e",
   "metadata": {},
   "outputs": [
    {
     "data": {
      "text/plain": [
       "TransactionID         0\n",
       "id_01                 0\n",
       "id_02                 1\n",
       "id_03            133298\n",
       "id_04            133298\n",
       "id_05              5006\n",
       "id_06              5006\n",
       "id_07            255697\n",
       "id_08            255697\n",
       "id_09            116839\n",
       "id_10            116839\n",
       "id_11                 0\n",
       "id_12                 0\n",
       "id_13             28399\n",
       "id_14            114520\n",
       "id_15                 0\n",
       "id_16             11832\n",
       "id_17              2281\n",
       "id_18            170023\n",
       "id_19              2379\n",
       "id_20              2692\n",
       "id_21            255693\n",
       "id_22            255680\n",
       "id_23            255680\n",
       "id_24            256424\n",
       "id_25            255740\n",
       "id_26            255701\n",
       "id_27            255680\n",
       "id_28                 0\n",
       "id_29                 0\n",
       "id_30            117687\n",
       "id_31               513\n",
       "id_32            117654\n",
       "id_33            121951\n",
       "id_34            116363\n",
       "id_35                 0\n",
       "id_36                 0\n",
       "id_37                 0\n",
       "id_38                 0\n",
       "DeviceType           66\n",
       "DeviceInfo        32767\n",
       "dtype: int64"
      ]
     },
     "execution_count": 28,
     "metadata": {},
     "output_type": "execute_result"
    }
   ],
   "source": [
    "identity.isnull().sum()"
   ]
  },
  {
   "cell_type": "code",
   "execution_count": 29,
   "id": "340ff5d2",
   "metadata": {},
   "outputs": [
    {
     "data": {
      "text/plain": [
       "TransactionID          0\n",
       "isFraud           499806\n",
       "TransactionDT          0\n",
       "TransactionAmt         0\n",
       "ProductCD              0\n",
       "                   ...  \n",
       "V335              895466\n",
       "V336              895466\n",
       "V337              895466\n",
       "V338              895466\n",
       "V339              895466\n",
       "Length: 394, dtype: int64"
      ]
     },
     "execution_count": 29,
     "metadata": {},
     "output_type": "execute_result"
    }
   ],
   "source": [
    "transaction.isnull().sum()"
   ]
  },
  {
   "cell_type": "markdown",
   "id": "51ee4203",
   "metadata": {},
   "source": [
    "3.1.1 Missing values for Identity Category Features"
   ]
  },
  {
   "cell_type": "code",
   "execution_count": 30,
   "id": "59b1bcad",
   "metadata": {},
   "outputs": [
    {
     "name": "stdout",
     "output_type": "stream",
     "text": [
      "category features of identity:\n",
      "number low missing (< 15%):  12 ,it's:  ['id_12', 'id_15', 'id_16', 'id_28', 'id_29', 'id_31', 'id_35', 'id_36', 'id_37', 'id_38', 'DeviceType', 'DeviceInfo']\n",
      "number medium missing (>= 15% and < 60%):  3 ,it's:  ['id_30', 'id_33', 'id_34']\n",
      "number many missing (>= 60%):  2 ,it's:  ['id_23', 'id_27']\n"
     ]
    }
   ],
   "source": [
    "low_missing_cat_id_cols = []      # lower than 15% missing values\n",
    "medium_missing_cat_id_cols = []   # between 15% and 60% missing\n",
    "many_missing_cat_id_cols = []     # more than 60% missing\n",
    "\n",
    "for i in cat_id_cols:\n",
    "    percentage = identity[i].isnull().sum() * 100 / len(identity[i])\n",
    "    if percentage < 15:\n",
    "        low_missing_cat_id_cols.append(i)\n",
    "    elif percentage >= 15 and percentage < 60:\n",
    "        medium_missing_cat_id_cols.append(i)\n",
    "    else:\n",
    "        many_missing_cat_id_cols.append(i)\n",
    "        \n",
    "print(\"category features of identity:\")      \n",
    "print(\"number low missing (< 15%): \", len(low_missing_cat_id_cols), \",it's: \", low_missing_cat_id_cols)\n",
    "print(\"number medium missing (>= 15% and < 60%): \", len(medium_missing_cat_id_cols), \",it's: \", medium_missing_cat_id_cols)\n",
    "print(\"number many missing (>= 60%): \", len(many_missing_cat_id_cols), \",it's: \", many_missing_cat_id_cols)"
   ]
  },
  {
   "cell_type": "code",
   "execution_count": 31,
   "id": "63ee64f4",
   "metadata": {},
   "outputs": [
    {
     "data": {
      "image/png": "[encoded data removed]",
      "text/plain": [
       "<Figure size 800x400 with 1 Axes>"
      ]
     },
     "metadata": {},
     "output_type": "display_data"
    }
   ],
   "source": [
    "fig, ax = plt.subplots(figsize=(8,4), dpi=100)\n",
    "x_data, y_data = ['< 15%', '>= 15% and < 60%', '>= 60%'], [len(low_missing_cat_id_cols), len(medium_missing_cat_id_cols), len(many_missing_cat_id_cols)]\n",
    "bar = plt.bar(x_data, y_data, 0.5, color='blue',edgecolor='grey')\n",
    "ax.set_title('Category features missing values of identity',fontsize=14,y=1.05)\n",
    "for a,b in zip(x_data, y_data): # show data label\n",
    "    plt.text(a,b,\n",
    "             b,\n",
    "             ha='center', \n",
    "             va='bottom',\n",
    "            )"
   ]
  },
  {
   "cell_type": "markdown",
   "id": "d2cc4b10",
   "metadata": {},
   "source": [
    "3.1.2 Missing values for Identity Numerical Features"
   ]
  },
  {
   "cell_type": "code",
   "execution_count": 32,
   "id": "0df9082c",
   "metadata": {},
   "outputs": [
    {
     "name": "stdout",
     "output_type": "stream",
     "text": [
      "numerical features of identity:\n",
      "number low missing (< 15%):  10 ,it's:  ['TransactionID', 'id_01', 'id_02', 'id_05', 'id_06', 'id_11', 'id_13', 'id_17', 'id_19', 'id_20']\n",
      "number medium missing (>= 15% and < 60%):  6 ,it's:  ['id_03', 'id_04', 'id_09', 'id_10', 'id_14', 'id_32']\n",
      "number many missing (>= 60%):  8 ,it's:  ['id_07', 'id_08', 'id_18', 'id_21', 'id_22', 'id_24', 'id_25', 'id_26']\n"
     ]
    }
   ],
   "source": [
    "low_missing_num_id_cols = []      # lower than 15% missing values\n",
    "medium_missing_num_id_cols = []   # between 15% and 60% missing\n",
    "many_missing_num_id_cols = []     # more than 60% missing\n",
    "\n",
    "for i in num_id_cols:\n",
    "    percentage = identity[i].isnull().sum() * 100 / len(identity[i])\n",
    "    if percentage < 15:\n",
    "        low_missing_num_id_cols.append(i)\n",
    "    elif percentage >= 15 and percentage < 60:\n",
    "        medium_missing_num_id_cols.append(i)\n",
    "    else:\n",
    "        many_missing_num_id_cols.append(i)\n",
    "        \n",
    "print(\"numerical features of identity:\")      \n",
    "print(\"number low missing (< 15%): \", len(low_missing_num_id_cols), \",it's: \", low_missing_num_id_cols)\n",
    "print(\"number medium missing (>= 15% and < 60%): \", len(medium_missing_num_id_cols), \",it's: \", medium_missing_num_id_cols)\n",
    "print(\"number many missing (>= 60%): \", len(many_missing_num_id_cols), \",it's: \", many_missing_num_id_cols)"
   ]
  },
  {
   "cell_type": "code",
   "execution_count": 33,
   "id": "daf8ac0e",
   "metadata": {},
   "outputs": [
    {
     "data": {
      "image/png": "[encoded data removed]",
      "text/plain": [
       "<Figure size 800x400 with 1 Axes>"
      ]
     },
     "metadata": {},
     "output_type": "display_data"
    }
   ],
   "source": [
    "fig, ax = plt.subplots(figsize=(8,4), dpi=100)\n",
    "x_data, y_data = ['< 15%', '>= 15% and < 60%', '>= 60%'], [len(low_missing_num_id_cols), len(medium_missing_num_id_cols), len(many_missing_num_id_cols)]\n",
    "bar = plt.bar(x_data, y_data, 0.5, color='blue',edgecolor='grey')\n",
    "ax.set_title('Numerical features missing values of identity',fontsize=14,y=1.05)\n",
    "for a,b in zip(x_data, y_data): # show data label\n",
    "    plt.text(a,b,\n",
    "             b,\n",
    "             ha='center', \n",
    "             va='bottom',\n",
    "            )"
   ]
  },
  {
   "cell_type": "markdown",
   "id": "2a935521",
   "metadata": {},
   "source": [
    "3.1.3 Missing values for Transaction Category Features"
   ]
  },
  {
   "cell_type": "code",
   "execution_count": 34,
   "id": "24e59da5",
   "metadata": {},
   "outputs": [
    {
     "name": "stdout",
     "output_type": "stream",
     "text": [
      "cat_trans_cols:\n",
      "number low missing:  4 ,it's:  ['ProductCD', 'card4', 'card6', 'P_emaildomain']\n",
      "number medium missing:  8 ,it's:  ['M1', 'M2', 'M3', 'M4', 'M6', 'M7', 'M8', 'M9']\n",
      "number many missing:  2 ,it's:  ['R_emaildomain', 'M5']\n"
     ]
    }
   ],
   "source": [
    "low_missing_cat_trans_cols = []      # lower than 15% missing values\n",
    "medium_missing_cat_trans_cols = []   # between 15% and 60% missing\n",
    "many_missing_cat_trans_cols = []     # more than 60% missing\n",
    "\n",
    "for i in cat_trans_cols:\n",
    "    percentage = transaction[i].isnull().sum() * 100 / len(transaction[i])\n",
    "    if percentage < 15:\n",
    "        low_missing_cat_trans_cols.append(i)\n",
    "    elif percentage >= 15 and percentage < 60:\n",
    "        medium_missing_cat_trans_cols.append(i)\n",
    "    else:\n",
    "        many_missing_cat_trans_cols.append(i)\n",
    "        \n",
    "print(\"cat_trans_cols:\")    \n",
    "print(\"number low missing: \", len(low_missing_cat_trans_cols), \",it's: \", low_missing_cat_trans_cols)\n",
    "print(\"number medium missing: \", len(medium_missing_cat_trans_cols), \",it's: \", medium_missing_cat_trans_cols)\n",
    "print(\"number many missing: \", len(many_missing_cat_trans_cols), \",it's: \", many_missing_cat_trans_cols)"
   ]
  },
  {
   "cell_type": "code",
   "execution_count": 35,
   "id": "7c19e263",
   "metadata": {},
   "outputs": [
    {
     "data": {
      "image/png": "[encoded data removed]",
      "text/plain": [
       "<Figure size 800x400 with 1 Axes>"
      ]
     },
     "metadata": {},
     "output_type": "display_data"
    }
   ],
   "source": [
    "fig, ax = plt.subplots(figsize=(8,4), dpi=100)\n",
    "x_data, y_data = ['< 15%', '>= 15% and < 60%', '>= 60%'], [len(low_missing_cat_trans_cols), len(medium_missing_cat_trans_cols), len(many_missing_cat_trans_cols)]\n",
    "bar = plt.bar(x_data, y_data, 0.5, color='yellow',edgecolor='grey')\n",
    "ax.set_title('Category features missing values of transaction',fontsize=14,y=1.05)\n",
    "for a,b in zip(x_data, y_data): # show data label\n",
    "    plt.text(a,b,\n",
    "             b,\n",
    "             ha='center', \n",
    "             va='bottom',\n",
    "            )"
   ]
  },
  {
   "cell_type": "markdown",
   "id": "5330a1db",
   "metadata": {},
   "source": [
    "3.1.4 Missing values for Transaction Numerical Features"
   ]
  },
  {
   "cell_type": "code",
   "execution_count": 35,
   "id": "cc96de9b",
   "metadata": {},
   "outputs": [
    {
     "name": "stdout",
     "output_type": "stream",
     "text": [
      "numerical features of identity:\n",
      "number low missing (< 15%):  177 ,it's:  ['TransactionID', 'TransactionDT', 'TransactionAmt', 'card1', 'card2', 'card3', 'card5', 'addr1', 'addr2', 'C1', 'C2', 'C3', 'C4', 'C5', 'C6', 'C7', 'C8', 'C9', 'C10', 'C11', 'C12', 'C13', 'C14', 'D1', 'D10', 'D15', 'V12', 'V13', 'V14', 'V15', 'V16', 'V17', 'V18', 'V19', 'V20', 'V21', 'V22', 'V23', 'V24', 'V25', 'V26', 'V27', 'V28', 'V29', 'V30', 'V31', 'V32', 'V33', 'V34', 'V53', 'V54', 'V55', 'V56', 'V57', 'V58', 'V59', 'V60', 'V61', 'V62', 'V63', 'V64', 'V65', 'V66', 'V67', 'V68', 'V69', 'V70', 'V71', 'V72', 'V73', 'V74', 'V75', 'V76', 'V77', 'V78', 'V79', 'V80', 'V81', 'V82', 'V83', 'V84', 'V85', 'V86', 'V87', 'V88', 'V89', 'V90', 'V91', 'V92', 'V93', 'V94', 'V95', 'V96', 'V97', 'V98', 'V99', 'V100', 'V101', 'V102', 'V103', 'V104', 'V105', 'V106', 'V107', 'V108', 'V109', 'V110', 'V111', 'V112', 'V113', 'V114', 'V115', 'V116', 'V117', 'V118', 'V119', 'V120', 'V121', 'V122', 'V123', 'V124', 'V125', 'V126', 'V127', 'V128', 'V129', 'V130', 'V131', 'V132', 'V133', 'V134', 'V135', 'V136', 'V137', 'V279', 'V280', 'V281', 'V282', 'V283', 'V284', 'V285', 'V286', 'V287', 'V288', 'V289', 'V290', 'V291', 'V292', 'V293', 'V294', 'V295', 'V296', 'V297', 'V298', 'V299', 'V300', 'V301', 'V302', 'V303', 'V304', 'V305', 'V306', 'V307', 'V308', 'V309', 'V310', 'V311', 'V312', 'V313', 'V314', 'V315', 'V316', 'V317', 'V318', 'V319', 'V320', 'V321']\n",
      "number medium missing (>= 15% and < 60%):  36 ,it's:  ['isFraud', 'dist1', 'D2', 'D3', 'D4', 'D5', 'D11', 'V1', 'V2', 'V3', 'V4', 'V5', 'V6', 'V7', 'V8', 'V9', 'V10', 'V11', 'V35', 'V36', 'V37', 'V38', 'V39', 'V40', 'V41', 'V42', 'V43', 'V44', 'V45', 'V46', 'V47', 'V48', 'V49', 'V50', 'V51', 'V52']\n",
      "number many missing (>= 60%):  167 ,it's:  ['dist2', 'D6', 'D7', 'D8', 'D9', 'D12', 'D13', 'D14', 'V138', 'V139', 'V140', 'V141', 'V142', 'V143', 'V144', 'V145', 'V146', 'V147', 'V148', 'V149', 'V150', 'V151', 'V152', 'V153', 'V154', 'V155', 'V156', 'V157', 'V158', 'V159', 'V160', 'V161', 'V162', 'V163', 'V164', 'V165', 'V166', 'V167', 'V168', 'V169', 'V170', 'V171', 'V172', 'V173', 'V174', 'V175', 'V176', 'V177', 'V178', 'V179', 'V180', 'V181', 'V182', 'V183', 'V184', 'V185', 'V186', 'V187', 'V188', 'V189', 'V190', 'V191', 'V192', 'V193', 'V194', 'V195', 'V196', 'V197', 'V198', 'V199', 'V200', 'V201', 'V202', 'V203', 'V204', 'V205', 'V206', 'V207', 'V208', 'V209', 'V210', 'V211', 'V212', 'V213', 'V214', 'V215', 'V216', 'V217', 'V218', 'V219', 'V220', 'V221', 'V222', 'V223', 'V224', 'V225', 'V226', 'V227', 'V228', 'V229', 'V230', 'V231', 'V232', 'V233', 'V234', 'V235', 'V236', 'V237', 'V238', 'V239', 'V240', 'V241', 'V242', 'V243', 'V244', 'V245', 'V246', 'V247', 'V248', 'V249', 'V250', 'V251', 'V252', 'V253', 'V254', 'V255', 'V256', 'V257', 'V258', 'V259', 'V260', 'V261', 'V262', 'V263', 'V264', 'V265', 'V266', 'V267', 'V268', 'V269', 'V270', 'V271', 'V272', 'V273', 'V274', 'V275', 'V276', 'V277', 'V278', 'V322', 'V323', 'V324', 'V325', 'V326', 'V327', 'V328', 'V329', 'V330', 'V331', 'V332', 'V333', 'V334', 'V335', 'V336', 'V337', 'V338', 'V339']\n"
     ]
    }
   ],
   "source": [
    "low_missing_num_trans_cols = []      # lower than 15% missing values\n",
    "medium_missing_num_trans_cols = []   # between 15% and 60% missing\n",
    "many_missing_num_trans_cols = []     # more than 60% missing\n",
    "\n",
    "for i in num_trans_cols:\n",
    "    percentage = transaction[i].isnull().sum() * 100 / len(transaction[i])\n",
    "    if percentage < 15:\n",
    "        low_missing_num_trans_cols.append(i)\n",
    "    elif percentage >= 15 and percentage < 60:\n",
    "        medium_missing_num_trans_cols.append(i)\n",
    "    else:\n",
    "        many_missing_num_trans_cols.append(i)\n",
    "        \n",
    "print(\"numerical features of identity:\")      \n",
    "print(\"number low missing (< 15%): \", len(low_missing_num_trans_cols), \",it's: \", low_missing_num_trans_cols)\n",
    "print(\"number medium missing (>= 15% and < 60%): \", len(medium_missing_num_trans_cols), \",it's: \", medium_missing_num_trans_cols)\n",
    "print(\"number many missing (>= 60%): \", len(many_missing_num_trans_cols), \",it's: \", many_missing_num_trans_cols)"
   ]
  },
  {
   "cell_type": "code",
   "execution_count": 37,
   "id": "0166f529",
   "metadata": {},
   "outputs": [
    {
     "data": {
      "image/png": "[encoded data removed]",
      "text/plain": [
       "<Figure size 800x400 with 1 Axes>"
      ]
     },
     "metadata": {},
     "output_type": "display_data"
    }
   ],
   "source": [
    "fig, ax = plt.subplots(figsize=(8,4), dpi=100)\n",
    "x_data, y_data = ['< 15%', '>= 15% and < 60%', '>= 60%'], [len(low_missing_num_trans_cols), len(medium_missing_num_trans_cols), len(many_missing_num_trans_cols)]\n",
    "bar = plt.bar(x_data, y_data, 0.5, color='yellow',edgecolor='grey')\n",
    "ax.set_title('Category features missing values of transaction',fontsize=14,y=1.05)\n",
    "for a,b in zip(x_data, y_data): # show data label\n",
    "    plt.text(a,b,\n",
    "             b,\n",
    "             ha='center', \n",
    "             va='bottom',\n",
    "            )"
   ]
  },
  {
   "cell_type": "code",
   "execution_count": 36,
   "id": "61e83ac8",
   "metadata": {},
   "outputs": [],
   "source": [
    "#Summary so far:\n",
    "\n",
    "# we have 2 dataframes:   transaction and identity\n",
    "\n",
    "####################################################################\n",
    "# features:\n",
    "\n",
    "# identity:        17 categorical and  24 numerical features\n",
    "# transaction:     14 categorical and 379 numerical features\n",
    "####################################################################\n",
    "# missing values:\n",
    "\n",
    "# cat_id_cols:        11 low,    4 medium,    2 many \n",
    "# num_id_cols:        10 low,    6 medium,    8 many\n",
    "\n",
    "# cat_trans_cols:      4 low,    8 medium,    2 many \n",
    "# num_trans_cols:    177 low,   35 medium,  167 many\n",
    "####################################################################"
   ]
  },
  {
   "cell_type": "markdown",
   "id": "316f0db6",
   "metadata": {},
   "source": [
    "# 3.2 Dealing with Missing Values"
   ]
  },
  {
   "cell_type": "markdown",
   "id": "a5019cfe",
   "metadata": {},
   "source": [
    "3.2.1 Numerical Features"
   ]
  },
  {
   "cell_type": "markdown",
   "id": "9cfa1327",
   "metadata": {},
   "source": [
    "3.2.1.1 Drop numerical features with many missing values"
   ]
  },
  {
   "cell_type": "code",
   "execution_count": 37,
   "id": "a46884b8",
   "metadata": {},
   "outputs": [
    {
     "name": "stdout",
     "output_type": "stream",
     "text": [
      "shape before dropping num_trans_cols:  394\n",
      "number of columns of transaction after dropping num_trans_cols:  227\n",
      "shape before dropping num_id_cols:  41\n",
      "number of columns of identity after dropping num_id_cols:  33\n"
     ]
    }
   ],
   "source": [
    "print(\"shape before dropping num_trans_cols: \", transaction.shape[1])        \n",
    "transaction = transaction.drop(columns = many_missing_num_trans_cols)\n",
    "print(\"number of columns of transaction after dropping num_trans_cols: \", transaction.shape[1])    \n",
    "\n",
    "\n",
    "print(\"shape before dropping num_id_cols: \", identity.shape[1])        \n",
    "identity = identity.drop(columns = many_missing_num_id_cols)\n",
    "print(\"number of columns of identity after dropping num_id_cols: \", identity.shape[1])\n",
    "\n",
    "\n",
    "# because we dropped some numerical columns from the dataframe,\n",
    "# we must create the list 'num_trans_cols' and\n",
    "# 'num_id_cols' again such that the dropped cols are no longer in them\n",
    "n = (transaction.dtypes != 'object')\n",
    "num_trans_cols = list(n[n].index) \n",
    "\n",
    "n = (identity.dtypes != 'object')\n",
    "num_id_cols = list(n[n].index) "
   ]
  },
  {
   "cell_type": "markdown",
   "id": "62f509f8",
   "metadata": {},
   "source": [
    "3.2.1.2 Impute numerical features with low missing values"
   ]
  },
  {
   "cell_type": "markdown",
   "id": "07cecc7b",
   "metadata": {},
   "source": [
    "identity"
   ]
  },
  {
   "cell_type": "code",
   "execution_count": 38,
   "id": "95f8fc25",
   "metadata": {},
   "outputs": [
    {
     "name": "stdout",
     "output_type": "stream",
     "text": [
      "values before imputing:          TransactionID  id_01     id_02  id_05  id_06  id_11  id_13  id_17  \\\n",
      "0             2987004    0.0   70787.0    NaN    NaN  100.0    NaN  166.0   \n",
      "1             2987008   -5.0   98945.0    0.0   -5.0  100.0   49.0  166.0   \n",
      "2             2987010   -5.0  191631.0    0.0    0.0  100.0   52.0  121.0   \n",
      "3             2987011   -5.0  221832.0    0.0   -6.0  100.0   52.0  225.0   \n",
      "4             2987016    0.0    7460.0    1.0    0.0  100.0    NaN  166.0   \n",
      "...               ...    ...       ...    ...    ...    ...    ...    ...   \n",
      "141902        4170230  -20.0  473365.0    0.0    0.0  100.0   27.0  225.0   \n",
      "141903        4170233   -5.0  489917.0   -4.0  -32.0  100.0   27.0  225.0   \n",
      "141904        4170234   -5.0  110081.0   22.0  -31.0  100.0   27.0  166.0   \n",
      "141905        4170236  -45.0  266704.0   -3.0  -10.0  100.0   27.0  225.0   \n",
      "141906        4170239  -10.0  692090.0    0.0    0.0  100.0   27.0  225.0   \n",
      "\n",
      "        id_19  id_20  \n",
      "0       542.0  144.0  \n",
      "1       621.0  500.0  \n",
      "2       410.0  142.0  \n",
      "3       176.0  507.0  \n",
      "4       529.0  575.0  \n",
      "...       ...    ...  \n",
      "141902  153.0  325.0  \n",
      "141903  417.0  595.0  \n",
      "141904  122.0  177.0  \n",
      "141905  176.0  507.0  \n",
      "141906  266.0  127.0  \n",
      "\n",
      "[265911 rows x 10 columns]\n"
     ]
    }
   ],
   "source": [
    "print(\"values before imputing: \", identity[low_missing_num_id_cols])"
   ]
  },
  {
   "cell_type": "code",
   "execution_count": 39,
   "id": "0b8d7df3",
   "metadata": {},
   "outputs": [],
   "source": [
    "my_imputer = SimpleImputer(strategy = 'mean') \n",
    "my_imputer.fit(identity[low_missing_num_id_cols])\n",
    "\n",
    "identity[low_missing_num_id_cols] = my_imputer.transform(identity[low_missing_num_id_cols])"
   ]
  },
  {
   "cell_type": "code",
   "execution_count": 40,
   "id": "40e5a44f",
   "metadata": {},
   "outputs": [
    {
     "name": "stdout",
     "output_type": "stream",
     "text": [
      "values after imputing:          TransactionID  id_01     id_02      id_05      id_06  id_11  \\\n",
      "0           2987004.0    0.0   70787.0   1.483904  -6.954405  100.0   \n",
      "1           2987008.0   -5.0   98945.0   0.000000  -5.000000  100.0   \n",
      "2           2987010.0   -5.0  191631.0   0.000000   0.000000  100.0   \n",
      "3           2987011.0   -5.0  221832.0   0.000000  -6.000000  100.0   \n",
      "4           2987016.0    0.0    7460.0   1.000000   0.000000  100.0   \n",
      "...               ...    ...       ...        ...        ...    ...   \n",
      "141902      4170230.0  -20.0  473365.0   0.000000   0.000000  100.0   \n",
      "141903      4170233.0   -5.0  489917.0  -4.000000 -32.000000  100.0   \n",
      "141904      4170234.0   -5.0  110081.0  22.000000 -31.000000  100.0   \n",
      "141905      4170236.0  -45.0  266704.0  -3.000000 -10.000000  100.0   \n",
      "141906      4170239.0  -10.0  692090.0   0.000000   0.000000  100.0   \n",
      "\n",
      "            id_13  id_17  id_19  id_20  \n",
      "0       43.563702  166.0  542.0  144.0  \n",
      "1       49.000000  166.0  621.0  500.0  \n",
      "2       52.000000  121.0  410.0  142.0  \n",
      "3       52.000000  225.0  176.0  507.0  \n",
      "4       43.563702  166.0  529.0  575.0  \n",
      "...           ...    ...    ...    ...  \n",
      "141902  27.000000  225.0  153.0  325.0  \n",
      "141903  27.000000  225.0  417.0  595.0  \n",
      "141904  27.000000  166.0  122.0  177.0  \n",
      "141905  27.000000  225.0  176.0  507.0  \n",
      "141906  27.000000  225.0  266.0  127.0  \n",
      "\n",
      "[265911 rows x 10 columns]\n"
     ]
    }
   ],
   "source": [
    "print(\"values after imputing: \", identity[low_missing_num_id_cols])"
   ]
  },
  {
   "cell_type": "markdown",
   "id": "4b36e283",
   "metadata": {},
   "source": [
    "transaction"
   ]
  },
  {
   "cell_type": "code",
   "execution_count": 41,
   "id": "6b267001",
   "metadata": {},
   "outputs": [
    {
     "name": "stdout",
     "output_type": "stream",
     "text": [
      "values before imputing:          TransactionID  TransactionDT  TransactionAmt  card1  card2  card3  \\\n",
      "0             2987000          86400          68.500  13926    NaN  150.0   \n",
      "1             2987001          86401          29.000   2755  404.0  150.0   \n",
      "2             2987002          86469          59.000   4663  490.0  150.0   \n",
      "3             2987003          86499          50.000  18132  567.0  150.0   \n",
      "4             2987004          86506          50.000   4497  514.0  150.0   \n",
      "...               ...            ...             ...    ...    ...    ...   \n",
      "506686        4170235       34214279          94.679  13832  375.0  185.0   \n",
      "506687        4170236       34214287          12.173   3154  408.0  185.0   \n",
      "506688        4170237       34214326          49.000  16661  490.0  150.0   \n",
      "506689        4170238       34214337         202.000  16621  516.0  150.0   \n",
      "506690        4170239       34214345          24.346   5713  168.0  144.0   \n",
      "\n",
      "        card5  addr1  addr2   C1  ...   V312     V313     V314     V315  V316  \\\n",
      "0       142.0  315.0   87.0  1.0  ...    0.0   0.0000   0.0000   0.0000   0.0   \n",
      "1       102.0  325.0   87.0  1.0  ...    0.0   0.0000   0.0000   0.0000   0.0   \n",
      "2       166.0  330.0   87.0  1.0  ...    0.0   0.0000   0.0000   0.0000   0.0   \n",
      "3       117.0  476.0   87.0  2.0  ...  135.0   0.0000   0.0000   0.0000  50.0   \n",
      "4       102.0  420.0   87.0  1.0  ...    0.0   0.0000   0.0000   0.0000   0.0   \n",
      "...       ...    ...    ...  ...  ...    ...      ...      ...      ...   ...   \n",
      "506686  224.0  284.0   60.0  1.0  ...    0.0   0.0000   0.0000   0.0000   0.0   \n",
      "506687  224.0    NaN    NaN  1.0  ...    0.0  31.7237  31.7237  31.7237   0.0   \n",
      "506688  226.0  327.0   87.0  1.0  ...    0.0   0.0000   0.0000   0.0000   0.0   \n",
      "506689  224.0  177.0   87.0  1.0  ...    0.0   0.0000   0.0000   0.0000   0.0   \n",
      "506690  147.0    NaN    NaN  1.0  ...    0.0   0.0000   0.0000   0.0000   0.0   \n",
      "\n",
      "          V317   V318  V319  V320  V321  \n",
      "0        117.0    0.0   0.0   0.0   0.0  \n",
      "1          0.0    0.0   0.0   0.0   0.0  \n",
      "2          0.0    0.0   0.0   0.0   0.0  \n",
      "3       1404.0  790.0   0.0   0.0   0.0  \n",
      "4          0.0    0.0   0.0   0.0   0.0  \n",
      "...        ...    ...   ...   ...   ...  \n",
      "506686     0.0    0.0   0.0   0.0   0.0  \n",
      "506687     0.0    0.0   0.0   0.0   0.0  \n",
      "506688     0.0    0.0   0.0   0.0   0.0  \n",
      "506689     0.0    0.0   0.0   0.0   0.0  \n",
      "506690     0.0    0.0   0.0   0.0   0.0  \n",
      "\n",
      "[1053093 rows x 177 columns]\n"
     ]
    }
   ],
   "source": [
    "print(\"values before imputing: \", transaction[low_missing_num_trans_cols])"
   ]
  },
  {
   "cell_type": "code",
   "execution_count": 42,
   "id": "1080cade",
   "metadata": {},
   "outputs": [],
   "source": [
    "my_imputer = SimpleImputer(strategy = 'mean') \n",
    "my_imputer.fit(transaction[low_missing_num_trans_cols])\n",
    "\n",
    "transaction[low_missing_num_trans_cols] = my_imputer.transform(transaction[low_missing_num_trans_cols])"
   ]
  },
  {
   "cell_type": "code",
   "execution_count": 43,
   "id": "750d3c87",
   "metadata": {},
   "outputs": [
    {
     "name": "stdout",
     "output_type": "stream",
     "text": [
      "values after imputing:          TransactionID  TransactionDT  TransactionAmt    card1       card2  \\\n",
      "0           2987000.0        86400.0          68.500  13926.0  363.333665   \n",
      "1           2987001.0        86401.0          29.000   2755.0  404.000000   \n",
      "2           2987002.0        86469.0          59.000   4663.0  490.000000   \n",
      "3           2987003.0        86499.0          50.000  18132.0  567.000000   \n",
      "4           2987004.0        86506.0          50.000   4497.0  514.000000   \n",
      "...               ...            ...             ...      ...         ...   \n",
      "506686      4170235.0     34214279.0          94.679  13832.0  375.000000   \n",
      "506687      4170236.0     34214287.0          12.173   3154.0  408.000000   \n",
      "506688      4170237.0     34214326.0          49.000  16661.0  490.000000   \n",
      "506689      4170238.0     34214337.0         202.000  16621.0  516.000000   \n",
      "506690      4170239.0     34214345.0          24.346   5713.0  168.000000   \n",
      "\n",
      "        card3  card5       addr1      addr2   C1  ...   V312     V313  \\\n",
      "0       150.0  142.0  315.000000  87.000000  1.0  ...    0.0   0.0000   \n",
      "1       150.0  102.0  325.000000  87.000000  1.0  ...    0.0   0.0000   \n",
      "2       150.0  166.0  330.000000  87.000000  1.0  ...    0.0   0.0000   \n",
      "3       150.0  117.0  476.000000  87.000000  2.0  ...  135.0   0.0000   \n",
      "4       150.0  102.0  420.000000  87.000000  1.0  ...    0.0   0.0000   \n",
      "...       ...    ...         ...        ...  ...  ...    ...      ...   \n",
      "506686  185.0  224.0  284.000000  60.000000  1.0  ...    0.0   0.0000   \n",
      "506687  185.0  224.0  291.298195  86.763485  1.0  ...    0.0  31.7237   \n",
      "506688  150.0  226.0  327.000000  87.000000  1.0  ...    0.0   0.0000   \n",
      "506689  150.0  224.0  177.000000  87.000000  1.0  ...    0.0   0.0000   \n",
      "506690  144.0  147.0  291.298195  86.763485  1.0  ...    0.0   0.0000   \n",
      "\n",
      "           V314     V315  V316    V317   V318  V319  V320  V321  \n",
      "0        0.0000   0.0000   0.0   117.0    0.0   0.0   0.0   0.0  \n",
      "1        0.0000   0.0000   0.0     0.0    0.0   0.0   0.0   0.0  \n",
      "2        0.0000   0.0000   0.0     0.0    0.0   0.0   0.0   0.0  \n",
      "3        0.0000   0.0000  50.0  1404.0  790.0   0.0   0.0   0.0  \n",
      "4        0.0000   0.0000   0.0     0.0    0.0   0.0   0.0   0.0  \n",
      "...         ...      ...   ...     ...    ...   ...   ...   ...  \n",
      "506686   0.0000   0.0000   0.0     0.0    0.0   0.0   0.0   0.0  \n",
      "506687  31.7237  31.7237   0.0     0.0    0.0   0.0   0.0   0.0  \n",
      "506688   0.0000   0.0000   0.0     0.0    0.0   0.0   0.0   0.0  \n",
      "506689   0.0000   0.0000   0.0     0.0    0.0   0.0   0.0   0.0  \n",
      "506690   0.0000   0.0000   0.0     0.0    0.0   0.0   0.0   0.0  \n",
      "\n",
      "[1053093 rows x 177 columns]\n"
     ]
    }
   ],
   "source": [
    "print(\"values after imputing: \", transaction[low_missing_num_trans_cols])"
   ]
  },
  {
   "cell_type": "markdown",
   "id": "82687c4e",
   "metadata": {},
   "source": [
    "3.2.1.3 Impute numerical features with medium missing values"
   ]
  },
  {
   "cell_type": "markdown",
   "id": "1b156c79",
   "metadata": {},
   "source": [
    "identity"
   ]
  },
  {
   "cell_type": "code",
   "execution_count": 44,
   "id": "1110da12",
   "metadata": {},
   "outputs": [
    {
     "name": "stdout",
     "output_type": "stream",
     "text": [
      "values before imputing:          id_03  id_04  id_09  id_10  id_14  id_32\n",
      "0         NaN    NaN    NaN    NaN -480.0   32.0\n",
      "1         NaN    NaN    NaN    NaN -300.0   32.0\n",
      "2         0.0    0.0    0.0    0.0    NaN    NaN\n",
      "3         NaN    NaN    NaN    NaN    NaN    NaN\n",
      "4         0.0    0.0    0.0    0.0 -300.0   24.0\n",
      "...       ...    ...    ...    ...    ...    ...\n",
      "141902    NaN    NaN    NaN    NaN    NaN    NaN\n",
      "141903    0.0    0.0    0.0    0.0    NaN    NaN\n",
      "141904    NaN    NaN    NaN    NaN -300.0   32.0\n",
      "141905    NaN    NaN    NaN    NaN    NaN    NaN\n",
      "141906    0.0    0.0    0.0    0.0    NaN    NaN\n",
      "\n",
      "[265911 rows x 6 columns]\n"
     ]
    }
   ],
   "source": [
    "print(\"values before imputing: \", identity[medium_missing_num_id_cols])\n",
    "\n",
    "my_imputer = SimpleImputer(strategy = 'median') \n",
    "my_imputer.fit(identity[medium_missing_num_id_cols])\n",
    "\n",
    "identity[medium_missing_num_id_cols] = my_imputer.transform(identity[medium_missing_num_id_cols])"
   ]
  },
  {
   "cell_type": "code",
   "execution_count": 45,
   "id": "d60a7c34",
   "metadata": {},
   "outputs": [
    {
     "name": "stdout",
     "output_type": "stream",
     "text": [
      "values after imputing:          id_03  id_04  id_09  id_10  id_14  id_32\n",
      "0         0.0    0.0    0.0    0.0 -480.0   32.0\n",
      "1         0.0    0.0    0.0    0.0 -300.0   32.0\n",
      "2         0.0    0.0    0.0    0.0 -300.0   24.0\n",
      "3         0.0    0.0    0.0    0.0 -300.0   24.0\n",
      "4         0.0    0.0    0.0    0.0 -300.0   24.0\n",
      "...       ...    ...    ...    ...    ...    ...\n",
      "141902    0.0    0.0    0.0    0.0 -300.0   24.0\n",
      "141903    0.0    0.0    0.0    0.0 -300.0   24.0\n",
      "141904    0.0    0.0    0.0    0.0 -300.0   32.0\n",
      "141905    0.0    0.0    0.0    0.0 -300.0   24.0\n",
      "141906    0.0    0.0    0.0    0.0 -300.0   24.0\n",
      "\n",
      "[265911 rows x 6 columns]\n"
     ]
    }
   ],
   "source": [
    "print(\"values after imputing: \", identity[medium_missing_num_id_cols])"
   ]
  },
  {
   "cell_type": "markdown",
   "id": "f2fdd688",
   "metadata": {},
   "source": [
    "transaction"
   ]
  },
  {
   "cell_type": "code",
   "execution_count": 46,
   "id": "1987a8d7",
   "metadata": {},
   "outputs": [
    {
     "name": "stdout",
     "output_type": "stream",
     "text": [
      "values before imputing:          isFraud  dist1     D2    D3    D4    D5    D11   V1   V2   V3  ...  \\\n",
      "0           0.0   19.0    NaN  13.0   NaN   NaN   13.0  1.0  1.0  1.0  ...   \n",
      "1           0.0    NaN    NaN   NaN   0.0   NaN    NaN  NaN  NaN  NaN  ...   \n",
      "2           0.0  287.0    NaN   NaN   0.0   NaN  315.0  1.0  1.0  1.0  ...   \n",
      "3           0.0    NaN  112.0   0.0  94.0   0.0    NaN  NaN  NaN  NaN  ...   \n",
      "4           0.0    NaN    NaN   NaN   NaN   NaN    NaN  NaN  NaN  NaN  ...   \n",
      "...         ...    ...    ...   ...   ...   ...    ...  ...  ...  ...  ...   \n",
      "506686      NaN    NaN    NaN   NaN   0.0   NaN    NaN  NaN  NaN  NaN  ...   \n",
      "506687      NaN    NaN   16.0  16.0  16.0  16.0    NaN  NaN  NaN  NaN  ...   \n",
      "506688      NaN    NaN    NaN   NaN   0.0   NaN    0.0  1.0  1.0  1.0  ...   \n",
      "506689      NaN    NaN    NaN   NaN   0.0   NaN    0.0  1.0  1.0  1.0  ...   \n",
      "506690      NaN    NaN    NaN   NaN   0.0   NaN    NaN  NaN  NaN  NaN  ...   \n",
      "\n",
      "        V43  V44  V45  V46  V47  V48  V49  V50  V51  V52  \n",
      "0       NaN  NaN  NaN  NaN  NaN  NaN  NaN  NaN  NaN  NaN  \n",
      "1       0.0  1.0  1.0  1.0  1.0  0.0  0.0  0.0  0.0  0.0  \n",
      "2       0.0  1.0  1.0  1.0  1.0  0.0  0.0  0.0  0.0  0.0  \n",
      "3       0.0  1.0  1.0  1.0  1.0  0.0  0.0  0.0  0.0  0.0  \n",
      "4       NaN  NaN  NaN  NaN  NaN  NaN  NaN  NaN  NaN  NaN  \n",
      "...     ...  ...  ...  ...  ...  ...  ...  ...  ...  ...  \n",
      "506686  0.0  1.0  1.0  1.0  1.0  0.0  0.0  1.0  1.0  1.0  \n",
      "506687  1.0  1.0  1.0  1.0  1.0  0.0  0.0  1.0  1.0  1.0  \n",
      "506688  0.0  1.0  1.0  1.0  1.0  0.0  0.0  0.0  0.0  0.0  \n",
      "506689  0.0  1.0  1.0  1.0  1.0  0.0  0.0  0.0  0.0  0.0  \n",
      "506690  1.0  1.0  1.0  1.0  1.0  0.0  0.0  1.0  1.0  1.0  \n",
      "\n",
      "[1053093 rows x 36 columns]\n"
     ]
    }
   ],
   "source": [
    "print(\"values before imputing: \", transaction[medium_missing_num_trans_cols])\n",
    "my_imputer = SimpleImputer(strategy = 'median') \n",
    "my_imputer.fit(transaction[medium_missing_num_trans_cols])\n",
    "\n",
    "transaction[medium_missing_num_trans_cols] = my_imputer.transform(transaction[medium_missing_num_trans_cols])"
   ]
  },
  {
   "cell_type": "code",
   "execution_count": 87,
   "id": "3509c10a",
   "metadata": {},
   "outputs": [
    {
     "name": "stdout",
     "output_type": "stream",
     "text": [
      "values after imputing:          id_03  id_04  id_09  id_10  id_14  id_32\n",
      "0         0.0    0.0    0.0    0.0 -480.0   32.0\n",
      "1         0.0    0.0    0.0    0.0 -300.0   32.0\n",
      "2         0.0    0.0    0.0    0.0 -300.0   24.0\n",
      "3         0.0    0.0    0.0    0.0 -300.0   24.0\n",
      "4         0.0    0.0    0.0    0.0 -300.0   24.0\n",
      "...       ...    ...    ...    ...    ...    ...\n",
      "141902    0.0    0.0    0.0    0.0 -300.0   24.0\n",
      "141903    0.0    0.0    0.0    0.0 -300.0   24.0\n",
      "141904    0.0    0.0    0.0    0.0 -300.0   32.0\n",
      "141905    0.0    0.0    0.0    0.0 -300.0   24.0\n",
      "141906    0.0    0.0    0.0    0.0 -300.0   24.0\n",
      "\n",
      "[265911 rows x 6 columns]\n"
     ]
    }
   ],
   "source": [
    "print(\"values after imputing: \", identity[medium_missing_num_id_cols])\n"
   ]
  },
  {
   "cell_type": "markdown",
   "id": "30bb2ae3",
   "metadata": {},
   "source": [
    "transaction"
   ]
  },
  {
   "cell_type": "code",
   "execution_count": 50,
   "id": "f8dc5af9",
   "metadata": {},
   "outputs": [
    {
     "name": "stdout",
     "output_type": "stream",
     "text": [
      "values before imputing:          isFraud  dist1     D2    D3    D4    D5    D11   V1   V2   V3  ...  \\\n",
      "0           0.0   19.0  103.0  13.0  23.0   9.0   13.0  1.0  1.0  1.0  ...   \n",
      "1           0.0    8.0  103.0   8.0   0.0   9.0   69.0  1.0  1.0  1.0  ...   \n",
      "2           0.0  287.0  103.0   8.0   0.0   9.0  315.0  1.0  1.0  1.0  ...   \n",
      "3           0.0    8.0  112.0   0.0  94.0   0.0   69.0  1.0  1.0  1.0  ...   \n",
      "4           0.0    8.0  103.0   8.0  23.0   9.0   69.0  1.0  1.0  1.0  ...   \n",
      "...         ...    ...    ...   ...   ...   ...    ...  ...  ...  ...  ...   \n",
      "506686      0.0    8.0  103.0   8.0   0.0   9.0   69.0  1.0  1.0  1.0  ...   \n",
      "506687      0.0    8.0   16.0  16.0  16.0  16.0   69.0  1.0  1.0  1.0  ...   \n",
      "506688      0.0    8.0  103.0   8.0   0.0   9.0    0.0  1.0  1.0  1.0  ...   \n",
      "506689      0.0    8.0  103.0   8.0   0.0   9.0    0.0  1.0  1.0  1.0  ...   \n",
      "506690      0.0    8.0  103.0   8.0   0.0   9.0   69.0  1.0  1.0  1.0  ...   \n",
      "\n",
      "        V43  V44  V45  V46  V47  V48  V49  V50  V51  V52  \n",
      "0       0.0  1.0  1.0  1.0  1.0  0.0  0.0  0.0  0.0  0.0  \n",
      "1       0.0  1.0  1.0  1.0  1.0  0.0  0.0  0.0  0.0  0.0  \n",
      "2       0.0  1.0  1.0  1.0  1.0  0.0  0.0  0.0  0.0  0.0  \n",
      "3       0.0  1.0  1.0  1.0  1.0  0.0  0.0  0.0  0.0  0.0  \n",
      "4       0.0  1.0  1.0  1.0  1.0  0.0  0.0  0.0  0.0  0.0  \n",
      "...     ...  ...  ...  ...  ...  ...  ...  ...  ...  ...  \n",
      "506686  0.0  1.0  1.0  1.0  1.0  0.0  0.0  1.0  1.0  1.0  \n",
      "506687  1.0  1.0  1.0  1.0  1.0  0.0  0.0  1.0  1.0  1.0  \n",
      "506688  0.0  1.0  1.0  1.0  1.0  0.0  0.0  0.0  0.0  0.0  \n",
      "506689  0.0  1.0  1.0  1.0  1.0  0.0  0.0  0.0  0.0  0.0  \n",
      "506690  1.0  1.0  1.0  1.0  1.0  0.0  0.0  1.0  1.0  1.0  \n",
      "\n",
      "[1053093 rows x 36 columns]\n"
     ]
    }
   ],
   "source": [
    "print(\"values before imputing: \", transaction[medium_missing_num_trans_cols])\n",
    "my_imputer = SimpleImputer(strategy = 'median') \n",
    "my_imputer.fit(transaction[medium_missing_num_trans_cols])\n",
    "\n",
    "transaction[medium_missing_num_trans_cols] = my_imputer.transform(transaction[medium_missing_num_trans_cols])"
   ]
  },
  {
   "cell_type": "code",
   "execution_count": 48,
   "id": "f3ab3160",
   "metadata": {},
   "outputs": [
    {
     "name": "stdout",
     "output_type": "stream",
     "text": [
      "values after imputing:          isFraud  dist1     D2    D3    D4    D5    D11   V1   V2   V3  ...  \\\n",
      "0           0.0   19.0  103.0  13.0  23.0   9.0   13.0  1.0  1.0  1.0  ...   \n",
      "1           0.0    8.0  103.0   8.0   0.0   9.0   69.0  1.0  1.0  1.0  ...   \n",
      "2           0.0  287.0  103.0   8.0   0.0   9.0  315.0  1.0  1.0  1.0  ...   \n",
      "3           0.0    8.0  112.0   0.0  94.0   0.0   69.0  1.0  1.0  1.0  ...   \n",
      "4           0.0    8.0  103.0   8.0  23.0   9.0   69.0  1.0  1.0  1.0  ...   \n",
      "...         ...    ...    ...   ...   ...   ...    ...  ...  ...  ...  ...   \n",
      "506686      0.0    8.0  103.0   8.0   0.0   9.0   69.0  1.0  1.0  1.0  ...   \n",
      "506687      0.0    8.0   16.0  16.0  16.0  16.0   69.0  1.0  1.0  1.0  ...   \n",
      "506688      0.0    8.0  103.0   8.0   0.0   9.0    0.0  1.0  1.0  1.0  ...   \n",
      "506689      0.0    8.0  103.0   8.0   0.0   9.0    0.0  1.0  1.0  1.0  ...   \n",
      "506690      0.0    8.0  103.0   8.0   0.0   9.0   69.0  1.0  1.0  1.0  ...   \n",
      "\n",
      "        V43  V44  V45  V46  V47  V48  V49  V50  V51  V52  \n",
      "0       0.0  1.0  1.0  1.0  1.0  0.0  0.0  0.0  0.0  0.0  \n",
      "1       0.0  1.0  1.0  1.0  1.0  0.0  0.0  0.0  0.0  0.0  \n",
      "2       0.0  1.0  1.0  1.0  1.0  0.0  0.0  0.0  0.0  0.0  \n",
      "3       0.0  1.0  1.0  1.0  1.0  0.0  0.0  0.0  0.0  0.0  \n",
      "4       0.0  1.0  1.0  1.0  1.0  0.0  0.0  0.0  0.0  0.0  \n",
      "...     ...  ...  ...  ...  ...  ...  ...  ...  ...  ...  \n",
      "506686  0.0  1.0  1.0  1.0  1.0  0.0  0.0  1.0  1.0  1.0  \n",
      "506687  1.0  1.0  1.0  1.0  1.0  0.0  0.0  1.0  1.0  1.0  \n",
      "506688  0.0  1.0  1.0  1.0  1.0  0.0  0.0  0.0  0.0  0.0  \n",
      "506689  0.0  1.0  1.0  1.0  1.0  0.0  0.0  0.0  0.0  0.0  \n",
      "506690  1.0  1.0  1.0  1.0  1.0  0.0  0.0  1.0  1.0  1.0  \n",
      "\n",
      "[1053093 rows x 36 columns]\n"
     ]
    }
   ],
   "source": [
    "print(\"values after imputing: \", transaction[medium_missing_num_trans_cols])"
   ]
  },
  {
   "cell_type": "markdown",
   "id": "46603a48",
   "metadata": {},
   "source": [
    "3.2.1.4 Final check"
   ]
  },
  {
   "cell_type": "code",
   "execution_count": 49,
   "id": "d1502ac7",
   "metadata": {},
   "outputs": [
    {
     "name": "stdout",
     "output_type": "stream",
     "text": [
      "0\n",
      "0\n"
     ]
    }
   ],
   "source": [
    "print(identity[num_id_cols].isnull().sum().sum())\n",
    "print(transaction[num_trans_cols].isnull().sum().sum())"
   ]
  },
  {
   "cell_type": "markdown",
   "id": "71feefc4",
   "metadata": {},
   "source": [
    "Reduce memory"
   ]
  },
  {
   "cell_type": "code",
   "execution_count": 103,
   "id": "0bce336e",
   "metadata": {},
   "outputs": [],
   "source": [
    "#  this function detects all the numerical columns,\n",
    "#  that can be converted to a smaller datatype.\n",
    "def detect_num_cols_to_shrink(list_of_num_cols, dataframe):\n",
    "    convert_to_int8 = []\n",
    "    convert_to_int16 = []\n",
    "    convert_to_int32 = []\n",
    "    convert_to_float32 = []\n",
    "\n",
    "    for col in list_of_num_cols:\n",
    "        dtype_str = str(dataframe[col].dtype)\n",
    "\n",
    "        if dtype_str in ['int8', 'int16', 'int32', 'int64']:\n",
    "            describe_object = dataframe[col].describe()\n",
    "            minimum = describe_object[3]\n",
    "            maximum = describe_object[7]\n",
    "            diff = abs(maximum - minimum)\n",
    "\n",
    "            if diff < 255:\n",
    "                convert_to_int8.append(col)\n",
    "            elif diff < 65535:\n",
    "                convert_to_int16.append(col)\n",
    "            elif diff < 4294967295:\n",
    "                convert_to_int32.append(col)\n",
    "\n",
    "        elif dtype_str in ['float16', 'float32', 'float64']:\n",
    "            describe_object = dataframe[col].describe()\n",
    "            minimum = describe_object[3]\n",
    "            maximum = describe_object[7]\n",
    "            diff = abs(maximum - minimum)\n",
    "\n",
    "            if diff < 4294967295:\n",
    "                convert_to_float32.append(col)\n",
    "\n",
    "    # Convert columns to desired data types\n",
    "    dataframe[convert_to_int8] = dataframe[convert_to_int8].astype('int8')\n",
    "    dataframe[convert_to_int16] = dataframe[convert_to_int16].astype('int16')\n",
    "    dataframe[convert_to_int32] = dataframe[convert_to_int32].astype('int32')\n",
    "    dataframe[convert_to_float32] = dataframe[convert_to_float32].astype('float32')\n",
    "\n",
    "    list_of_lists = [convert_to_int8, convert_to_int16, convert_to_int32, convert_to_float32]\n",
    "\n",
    "    return list_of_lists\n"
   ]
  },
  {
   "cell_type": "code",
   "execution_count": 104,
   "id": "62306488",
   "metadata": {},
   "outputs": [],
   "source": [
    "num_cols_to_shrink_trans = detect_num_cols_to_shrink(num_trans_cols, transaction)\n",
    "\n",
    "convert_to_int8 = num_cols_to_shrink_trans[0]\n",
    "convert_to_int16 = num_cols_to_shrink_trans[1]\n",
    "convert_to_int32 = num_cols_to_shrink_trans[2]\n",
    "convert_to_float32 = num_cols_to_shrink_trans[3]\n",
    "\n",
    "transaction[convert_to_int8] = transaction[convert_to_int8].astype('int8')\n",
    "transaction[convert_to_int16] = transaction[convert_to_int16].astype('int16')\n",
    "transaction[convert_to_int32] = transaction[convert_to_int32].astype('int32')\n",
    "transaction[convert_to_float32] = transaction[convert_to_float32].astype('float32')"
   ]
  },
  {
   "cell_type": "code",
   "execution_count": 105,
   "id": "6ac61a20",
   "metadata": {},
   "outputs": [],
   "source": [
    "for col in convert_to_int16:\n",
    "    transaction[col] = transaction[col].astype('int16')\n",
    "\n",
    "for col in convert_to_int32:\n",
    "    transaction[col] = transaction[col].astype('int32')\n",
    "\n",
    "for col in convert_to_float32:\n",
    "    transaction[col] = transaction[col].astype('float32')\n"
   ]
  },
  {
   "cell_type": "code",
   "execution_count": 106,
   "id": "870b0c23",
   "metadata": {},
   "outputs": [],
   "source": [
    "# Assuming detect_num_cols_to_shrink function is defined and imported\n",
    "\n",
    "# Detect columns to shrink for the 'identity' DataFrame\n",
    "num_cols_to_shrink_id = detect_num_cols_to_shrink(num_id_cols, identity)\n",
    "\n",
    "# Extract lists of columns to convert\n",
    "convert_to_int8 = num_cols_to_shrink_id[0]\n",
    "convert_to_int16 = num_cols_to_shrink_id[1]\n",
    "convert_to_int32 = num_cols_to_shrink_id[2]\n",
    "convert_to_float32 = num_cols_to_shrink_id[3]\n",
    "\n",
    "# Convert columns to the desired data types\n",
    "for col in convert_to_int8:\n",
    "    identity[col] = identity[col].astype('int8')\n",
    "\n",
    "for col in convert_to_int16:\n",
    "    identity[col] = identity[col].astype('int16')\n",
    "\n",
    "for col in convert_to_int32:\n",
    "    identity[col] = identity[col].astype('int32')\n",
    "\n",
    "for col in convert_to_float32:\n",
    "    identity[col] = identity[col].astype('float32')\n"
   ]
  },
  {
   "cell_type": "markdown",
   "id": "568052ae",
   "metadata": {},
   "source": [
    "3.2.2 Category Features"
   ]
  },
  {
   "cell_type": "markdown",
   "id": "cd74670b",
   "metadata": {},
   "source": [
    "3.2.2.1 Drop category features with many missing values"
   ]
  },
  {
   "cell_type": "code",
   "execution_count": 107,
   "id": "8f79e9c8",
   "metadata": {},
   "outputs": [
    {
     "name": "stdout",
     "output_type": "stream",
     "text": [
      "Shape before dropping many_missing_cat_trans_cols: (1053093, 225)\n",
      "Shape after dropping many_missing_cat_trans_cols: (1053093, 225)\n",
      "Shape before dropping many_missing_cat_id_cols: (265911, 31)\n",
      "Shape after dropping many_missing_cat_id_cols: (265911, 31)\n",
      "Updated cat_trans_cols: []\n",
      "Updated cat_id_cols: []\n"
     ]
    }
   ],
   "source": [
    "# Print shape before dropping columns\n",
    "print(\"Shape before dropping many_missing_cat_trans_cols:\", transaction.shape)\n",
    "\n",
    "# Drop columns from transaction if they exist\n",
    "transaction = transaction.drop(columns=many_missing_cat_trans_cols, errors='ignore')\n",
    "\n",
    "# Print shape after dropping columns\n",
    "print(\"Shape after dropping many_missing_cat_trans_cols:\", transaction.shape)\n",
    "\n",
    "# Print shape before dropping columns\n",
    "print(\"Shape before dropping many_missing_cat_id_cols:\", identity.shape)\n",
    "\n",
    "# Drop columns from identity if they exist\n",
    "identity = identity.drop(columns=many_missing_cat_id_cols, errors='ignore')\n",
    "\n",
    "# Print shape after dropping columns\n",
    "print(\"Shape after dropping many_missing_cat_id_cols:\", identity.shape)\n",
    "\n",
    "# Update cat_trans_cols and cat_id_cols\n",
    "cat_trans_cols = list(transaction.select_dtypes(include='object').columns)\n",
    "cat_id_cols = list(identity.select_dtypes(include='object').columns)\n",
    "\n",
    "print(\"Updated cat_trans_cols:\", cat_trans_cols)\n",
    "print(\"Updated cat_id_cols:\", cat_id_cols)"
   ]
  },
  {
   "cell_type": "code",
   "execution_count": 108,
   "id": "dabc6167",
   "metadata": {
    "scrolled": true
   },
   "outputs": [
    {
     "name": "stdout",
     "output_type": "stream",
     "text": [
      "Remaining columns in transaction: Index(['TransactionID', 'isFraud', 'TransactionDT', 'TransactionAmt',\n",
      "       'ProductCD', 'card1', 'card2', 'card3', 'card4', 'card5',\n",
      "       ...\n",
      "       'V312', 'V313', 'V314', 'V315', 'V316', 'V317', 'V318', 'V319', 'V320',\n",
      "       'V321'],\n",
      "      dtype='object', length=225)\n",
      "Remaining columns in identity: Index(['TransactionID', 'id_01', 'id_02', 'id_03', 'id_04', 'id_05', 'id_06',\n",
      "       'id_09', 'id_10', 'id_11', 'id_12', 'id_13', 'id_14', 'id_15', 'id_16',\n",
      "       'id_17', 'id_19', 'id_20', 'id_28', 'id_29', 'id_30', 'id_31', 'id_32',\n",
      "       'id_33', 'id_34', 'id_35', 'id_36', 'id_37', 'id_38', 'DeviceType',\n",
      "       'DeviceInfo'],\n",
      "      dtype='object')\n"
     ]
    }
   ],
   "source": [
    "print(\"Remaining columns in transaction:\", transaction.columns)\n",
    "print(\"Remaining columns in identity:\", identity.columns)\n"
   ]
  },
  {
   "cell_type": "code",
   "execution_count": 109,
   "id": "1d945d40",
   "metadata": {},
   "outputs": [],
   "source": [
    "cat_trans_cols = list(transaction.select_dtypes(include='object').columns)\n",
    "cat_id_cols = list(identity.select_dtypes(include='object').columns)\n"
   ]
  },
  {
   "cell_type": "markdown",
   "id": "02b045f1",
   "metadata": {},
   "source": [
    "3.2.2.2 Label-Encode features with high cardinality"
   ]
  },
  {
   "cell_type": "markdown",
   "id": "67dd3ec4",
   "metadata": {},
   "source": [
    "identity"
   ]
  },
  {
   "cell_type": "code",
   "execution_count": 110,
   "id": "1b6c39a6",
   "metadata": {},
   "outputs": [
    {
     "name": "stdout",
     "output_type": "stream",
     "text": [
      "cat_id_cols: []\n",
      "Shape of 'identity': (265911, 31)\n"
     ]
    }
   ],
   "source": [
    "print(\"cat_id_cols:\", cat_id_cols)\n",
    "print(\"Shape of 'identity':\", identity.shape)"
   ]
  },
  {
   "cell_type": "code",
   "execution_count": 111,
   "id": "c3b2c590",
   "metadata": {},
   "outputs": [],
   "source": [
    "for col in cat_id_cols:\n",
    "    print(col, identity[col].nunique())"
   ]
  },
  {
   "cell_type": "markdown",
   "id": "024710be",
   "metadata": {},
   "source": [
    "As we can see there two groups of cardinality: low cardinality with (2,4) unique values, and comparibly high cardinality with (87,172,461,2799) unique values."
   ]
  },
  {
   "cell_type": "code",
   "execution_count": 112,
   "id": "4e79ec32",
   "metadata": {},
   "outputs": [],
   "source": [
    "low_card_id_cols =  [\"id_12\", \"id_15\", \"id_16\", \"id_28\", \"id_29\", \"id_34\", \"id_35\", \"id_36\", \"id_37\", \"id_38\", \"DeviceType\"]\n",
    "high_card_id_cols = [\"id_30\", \"id_31\", \"id_33\", \"DeviceInfo\"]"
   ]
  },
  {
   "cell_type": "code",
   "execution_count": 113,
   "id": "805edaaf",
   "metadata": {},
   "outputs": [],
   "source": [
    "for i in cat_id_cols:\n",
    "    most_frequent_value = identity[i].mode()[0]\n",
    "    print(\"For column: \", i, \"the most frequent value is: \", most_frequent_value)\n",
    "    identity[i].fillna(most_frequent_value, inplace = True)"
   ]
  },
  {
   "cell_type": "markdown",
   "id": "6344f2ba",
   "metadata": {},
   "source": [
    "transaction"
   ]
  },
  {
   "cell_type": "code",
   "execution_count": 114,
   "id": "db655f78",
   "metadata": {},
   "outputs": [],
   "source": [
    "for col in cat_trans_cols:\n",
    "    print(col, transaction[col].nunique())"
   ]
  },
  {
   "cell_type": "markdown",
   "id": "574ffc8a",
   "metadata": {},
   "source": [
    "As we can see there are two groups of cardinality: low cardinality with (2,3,4,5) unique values, and comparibly high cardinality with 60 unique values."
   ]
  },
  {
   "cell_type": "code",
   "execution_count": 115,
   "id": "5477a7e5",
   "metadata": {},
   "outputs": [],
   "source": [
    "low_card_trans_cols = [\"ProductCD\", \"card4\", \"card6\", \"M1\", \"M2\", \"M3\", \"M4\", \"M6\", \"M7\", \"M8\", \"M9\"]\n",
    "high_card_trans_cols = [\"P_emaildomain\"]"
   ]
  },
  {
   "cell_type": "code",
   "execution_count": 116,
   "id": "8f2c9425",
   "metadata": {},
   "outputs": [],
   "source": [
    "for i in cat_trans_cols:\n",
    "    most_frequent_value = transaction[i].mode()[0]\n",
    "    print(\"For column: \", i, \"the most frequent value is: \", most_frequent_value)\n",
    "    transaction[i].fillna(most_frequent_value, inplace = True)"
   ]
  },
  {
   "cell_type": "markdown",
   "id": "eb1415c7",
   "metadata": {},
   "source": [
    "3.2.2.3 Onehot-Encode features with low cardinality"
   ]
  },
  {
   "cell_type": "markdown",
   "id": "f9c94235",
   "metadata": {},
   "source": [
    "identity"
   ]
  },
  {
   "cell_type": "code",
   "execution_count": 117,
   "id": "488eccdc",
   "metadata": {},
   "outputs": [
    {
     "name": "stdout",
     "output_type": "stream",
     "text": [
      "shape before encoding:  (265911, 31)\n",
      "columns to encode:  ['id_12', 'id_15', 'id_16', 'id_28', 'id_29', 'id_34', 'id_35', 'id_36', 'id_37', 'id_38', 'DeviceType']\n",
      "shape after encoding:  (265911, 20)\n"
     ]
    }
   ],
   "source": [
    "print(\"shape before encoding: \", identity.shape)\n",
    "print(\"columns to encode: \", low_card_id_cols)\n",
    "\n",
    "# this line does the onehot encoding\n",
    "low_card_id_encoded = pd.get_dummies(identity[low_card_id_cols], dummy_na = False)\n",
    "identity.drop(columns = low_card_id_cols, inplace = True)\n",
    "\n",
    "\n",
    "print(\"shape after encoding: \", identity.shape)"
   ]
  },
  {
   "cell_type": "markdown",
   "id": "7005edf1",
   "metadata": {},
   "source": [
    "transaction"
   ]
  },
  {
   "cell_type": "code",
   "execution_count": 118,
   "id": "70cf16db",
   "metadata": {},
   "outputs": [
    {
     "name": "stdout",
     "output_type": "stream",
     "text": [
      "shape before encoding:  (1053093, 225)\n",
      "columns to encode:  ['ProductCD', 'card4', 'card6', 'M1', 'M2', 'M3', 'M4', 'M6', 'M7', 'M8', 'M9']\n",
      "shape after encoding:  (1053093, 214)\n"
     ]
    }
   ],
   "source": [
    "print(\"shape before encoding: \", transaction.shape)\n",
    "print(\"columns to encode: \", low_card_trans_cols)\n",
    "\n",
    "# this line does the onehot encoding\n",
    "low_card_trans_encoded = pd.get_dummies(transaction[low_card_trans_cols], dummy_na = False)\n",
    "transaction.drop(columns = low_card_trans_cols, inplace = True)\n",
    "\n",
    "\n",
    "print(\"shape after encoding: \", transaction.shape)"
   ]
  },
  {
   "cell_type": "markdown",
   "id": "f74da3d2",
   "metadata": {},
   "source": [
    "3.2.2.3 Final check"
   ]
  },
  {
   "cell_type": "code",
   "execution_count": 119,
   "id": "fc3fba68",
   "metadata": {},
   "outputs": [
    {
     "name": "stdout",
     "output_type": "stream",
     "text": [
      "1063638\n",
      "1053093\n"
     ]
    }
   ],
   "source": [
    "print(identity.isnull().sum().sum())\n",
    "print(transaction.isnull().sum().sum())"
   ]
  },
  {
   "cell_type": "markdown",
   "id": "4a279107",
   "metadata": {},
   "source": [
    "3.2.3 Bar Chart of the Change in Means"
   ]
  },
  {
   "cell_type": "markdown",
   "id": "ad7bd18a",
   "metadata": {},
   "source": [
    "identity"
   ]
  },
  {
   "cell_type": "code",
   "execution_count": 120,
   "id": "03d9e851",
   "metadata": {},
   "outputs": [],
   "source": [
    "identity_org = identity_org[identity.columns]"
   ]
  },
  {
   "cell_type": "code",
   "execution_count": 121,
   "id": "6694e0c7",
   "metadata": {},
   "outputs": [],
   "source": [
    "identity = identity.apply(pd.to_numeric, errors='coerce')\n",
    "identity_org = identity_org.apply(pd.to_numeric, errors='coerce')\n",
    "\n",
    "\n",
    "identity_mean = identity.mean()\n",
    "identity_org_mean = identity_org.mean()"
   ]
  },
  {
   "cell_type": "code",
   "execution_count": 85,
   "id": "f7199507",
   "metadata": {},
   "outputs": [
    {
     "data": {
      "text/plain": [
       "TransactionID     0.00\n",
       "id_01             0.00\n",
       "id_02             0.00\n",
       "id_03           -50.13\n",
       "id_04           -50.13\n",
       "id_05            -0.00\n",
       "id_06            -0.00\n",
       "id_09           -43.94\n",
       "id_10           -43.94\n",
       "id_11             0.00\n",
       "id_13            -0.00\n",
       "id_14            -5.56\n",
       "id_17            -0.00\n",
       "id_19            -0.00\n",
       "id_20             0.00\n",
       "id_30              NaN\n",
       "id_31              NaN\n",
       "id_32            -3.98\n",
       "id_33              NaN\n",
       "DeviceInfo         NaN\n",
       "dtype: float64"
      ]
     },
     "execution_count": 85,
     "metadata": {},
     "output_type": "execute_result"
    }
   ],
   "source": [
    "# % change in means of columns before and after dropping and imuputing missing-value rows\n",
    "change_in_means_id = (((identity_mean - identity_org_mean) / identity_org_mean) * 100).round(2)\n",
    "change_in_means_id"
   ]
  },
  {
   "cell_type": "code",
   "execution_count": 122,
   "id": "b0f3b9a4",
   "metadata": {},
   "outputs": [
    {
     "data": {
      "text/plain": [
       "TransactionID   3599229.50\n",
       "id_01               -10.09\n",
       "id_02            177836.70\n",
       "id_03                 0.03\n",
       "id_04                -0.04\n",
       "id_05                 1.48\n",
       "id_06                -6.95\n",
       "id_09                 0.05\n",
       "id_10                -0.15\n",
       "id_11                99.74\n",
       "id_13                43.56\n",
       "id_14              -325.34\n",
       "id_17               188.90\n",
       "id_19               353.25\n",
       "id_20               405.06\n",
       "id_30                  NaN\n",
       "id_31                  NaN\n",
       "id_32                25.32\n",
       "id_33                  NaN\n",
       "DeviceInfo             inf\n",
       "dtype: float64"
      ]
     },
     "execution_count": 122,
     "metadata": {},
     "output_type": "execute_result"
    }
   ],
   "source": [
    "pd.set_option('display.float_format',lambda x: '%.2f' % x) # cancel the scientific notation\n",
    "identity_mean # current identity"
   ]
  },
  {
   "cell_type": "code",
   "execution_count": 123,
   "id": "27a4c391",
   "metadata": {},
   "outputs": [
    {
     "data": {
      "text/plain": [
       "TransactionID   3599229.39\n",
       "id_01               -10.09\n",
       "id_02            177836.69\n",
       "id_03                 0.06\n",
       "id_04                -0.07\n",
       "id_05                 1.48\n",
       "id_06                -6.95\n",
       "id_09                 0.08\n",
       "id_10                -0.27\n",
       "id_11                99.74\n",
       "id_13                43.56\n",
       "id_14              -344.51\n",
       "id_17               188.90\n",
       "id_19               353.25\n",
       "id_20               405.06\n",
       "id_30                  NaN\n",
       "id_31                  NaN\n",
       "id_32                26.37\n",
       "id_33                  NaN\n",
       "DeviceInfo             inf\n",
       "dtype: float64"
      ]
     },
     "execution_count": 123,
     "metadata": {},
     "output_type": "execute_result"
    }
   ],
   "source": [
    "identity_org_mean # original identity"
   ]
  },
  {
   "cell_type": "code",
   "execution_count": 126,
   "id": "8cbddf44",
   "metadata": {},
   "outputs": [
    {
     "data": {
      "image/png": "[encoded data removed]",
      "text/plain": [
       "<Figure size 900x400 with 1 Axes>"
      ]
     },
     "metadata": {},
     "output_type": "display_data"
    }
   ],
   "source": [
    "# Assuming change_in_means_id is a Pandas DataFrame or Series\n",
    "\n",
    "# Example calculation (replace this with your actual calculation)\n",
    "change_in_means_id = identity.mean() / identity.mean().shift(1) - 1\n",
    "\n",
    "# Plotting\n",
    "plt.figure(figsize=(9, 4))\n",
    "change_in_means_id.plot.bar(title='% change in average column values')\n",
    "plt.ylabel('% change')\n",
    "plt.show()\n"
   ]
  },
  {
   "cell_type": "markdown",
   "id": "a9564644",
   "metadata": {},
   "source": [
    "transaction"
   ]
  },
  {
   "cell_type": "code",
   "execution_count": 127,
   "id": "c701b279",
   "metadata": {},
   "outputs": [],
   "source": [
    "transaction_org = transaction_org[transaction.columns]"
   ]
  },
  {
   "cell_type": "code",
   "execution_count": 128,
   "id": "8635505a",
   "metadata": {},
   "outputs": [],
   "source": [
    "transaction = transaction.apply(pd.to_numeric, errors='coerce')\n",
    "transaction_org = transaction_org.apply(pd.to_numeric, errors='coerce')\n",
    "\n",
    "transaction_mean = transaction.mean()\n",
    "transaction_org_mean = transaction_org.mean()"
   ]
  },
  {
   "cell_type": "markdown",
   "id": "1b93757f",
   "metadata": {},
   "source": [
    "Compare the mean of current transaction and orginal transaction"
   ]
  },
  {
   "cell_type": "code",
   "execution_count": 129,
   "id": "82bd8ec2",
   "metadata": {},
   "outputs": [
    {
     "data": {
      "text/plain": [
       "TransactionID      0.00\n",
       "isFraud          -47.46\n",
       "TransactionDT     -0.00\n",
       "TransactionAmt     0.00\n",
       "card1             -0.00\n",
       "                  ...  \n",
       "V317              -0.00\n",
       "V318               0.00\n",
       "V319              -0.00\n",
       "V320              -0.00\n",
       "V321              -0.00\n",
       "Length: 214, dtype: float64"
      ]
     },
     "execution_count": 129,
     "metadata": {},
     "output_type": "execute_result"
    }
   ],
   "source": [
    "# % change in means of columns before and after dropping and imuputing missing-value rows\n",
    "change_in_means_trans = ((transaction_mean - transaction_org_mean) / transaction_org_mean * 100).round(2)\n",
    "change_in_means_trans"
   ]
  },
  {
   "cell_type": "code",
   "execution_count": 130,
   "id": "1dda46e5",
   "metadata": {},
   "outputs": [
    {
     "data": {
      "text/plain": [
       "TransactionID     3586295.00\n",
       "isFraud                 0.02\n",
       "TransactionDT    16729880.00\n",
       "TransactionAmt        134.56\n",
       "card1                9924.84\n",
       "                     ...    \n",
       "V317                  161.77\n",
       "V318                  112.80\n",
       "V319                   22.99\n",
       "V320                   44.73\n",
       "V321                   32.73\n",
       "Length: 214, dtype: float64"
      ]
     },
     "execution_count": 130,
     "metadata": {},
     "output_type": "execute_result"
    }
   ],
   "source": [
    "transaction_mean # current transaction"
   ]
  },
  {
   "cell_type": "code",
   "execution_count": 131,
   "id": "9bb14825",
   "metadata": {},
   "outputs": [
    {
     "data": {
      "text/plain": [
       "TransactionID     3586294.07\n",
       "isFraud                 0.04\n",
       "TransactionDT    16729881.28\n",
       "TransactionAmt        134.56\n",
       "card1                9924.84\n",
       "                     ...    \n",
       "V317                  161.77\n",
       "V318                  112.80\n",
       "V319                   22.99\n",
       "V320                   44.73\n",
       "V321                   32.73\n",
       "Length: 214, dtype: float64"
      ]
     },
     "execution_count": 131,
     "metadata": {},
     "output_type": "execute_result"
    }
   ],
   "source": [
    "transaction_org_mean # original transaction"
   ]
  },
  {
   "cell_type": "code",
   "execution_count": 132,
   "id": "89f4d449",
   "metadata": {},
   "outputs": [
    {
     "data": {
      "text/plain": [
       "Text(0, 0.5, '% change')"
      ]
     },
     "execution_count": 132,
     "metadata": {},
     "output_type": "execute_result"
    },
    {
     "data": {
      "image/png": "[encoded data removed]",
      "text/plain": [
       "<Figure size 900x400 with 1 Axes>"
      ]
     },
     "metadata": {},
     "output_type": "display_data"
    }
   ],
   "source": [
    "plt.figure(figsize=(9, 4))\n",
    "change_in_means_trans[3:45].plot.bar(title='% change in average column values', )\n",
    "plt.ylabel('% change')"
   ]
  },
  {
   "cell_type": "markdown",
   "id": "c7aa3532",
   "metadata": {},
   "source": [
    "3.3 Concat Encoded Dataframes\n"
   ]
  },
  {
   "cell_type": "code",
   "execution_count": 133,
   "id": "c701b4c0",
   "metadata": {},
   "outputs": [
    {
     "name": "stdout",
     "output_type": "stream",
     "text": [
      "<class 'pandas.core.frame.DataFrame'>\n",
      "Index: 1053093 entries, 0 to 506690\n",
      "Columns: 225 entries, TransactionID to M9\n",
      "dtypes: float32(213), float64(12)\n",
      "memory usage: 960.1 MB\n",
      "None\n"
     ]
    }
   ],
   "source": [
    "transaction_concatted = pd.concat([transaction, low_card_trans_encoded], axis = 1)\n",
    "print(transaction_concatted.info())"
   ]
  },
  {
   "cell_type": "code",
   "execution_count": 134,
   "id": "35bfb706",
   "metadata": {},
   "outputs": [
    {
     "name": "stdout",
     "output_type": "stream",
     "text": [
      "<class 'pandas.core.frame.DataFrame'>\n",
      "Index: 265911 entries, 0 to 141906\n",
      "Data columns (total 31 columns):\n",
      " #   Column         Non-Null Count   Dtype  \n",
      "---  ------         --------------   -----  \n",
      " 0   TransactionID  265911 non-null  float32\n",
      " 1   id_01          265911 non-null  float32\n",
      " 2   id_02          265911 non-null  float32\n",
      " 3   id_03          265911 non-null  float32\n",
      " 4   id_04          265911 non-null  float32\n",
      " 5   id_05          265911 non-null  float32\n",
      " 6   id_06          265911 non-null  float32\n",
      " 7   id_09          265911 non-null  float32\n",
      " 8   id_10          265911 non-null  float32\n",
      " 9   id_11          265911 non-null  float32\n",
      " 10  id_13          265911 non-null  float32\n",
      " 11  id_14          265911 non-null  float32\n",
      " 12  id_17          265911 non-null  float32\n",
      " 13  id_19          265911 non-null  float32\n",
      " 14  id_20          265911 non-null  float32\n",
      " 15  id_30          0 non-null       float64\n",
      " 16  id_31          0 non-null       float64\n",
      " 17  id_32          265911 non-null  float32\n",
      " 18  id_33          0 non-null       float64\n",
      " 19  DeviceInfo     6 non-null       float64\n",
      " 20  id_12          0 non-null       float64\n",
      " 21  id_15          0 non-null       float64\n",
      " 22  id_16          0 non-null       float64\n",
      " 23  id_28          0 non-null       float64\n",
      " 24  id_29          0 non-null       float64\n",
      " 25  id_34          0 non-null       float64\n",
      " 26  id_35          0 non-null       float64\n",
      " 27  id_36          0 non-null       float64\n",
      " 28  id_37          0 non-null       float64\n",
      " 29  id_38          0 non-null       float64\n",
      " 30  DeviceType     0 non-null       float64\n",
      "dtypes: float32(16), float64(15)\n",
      "memory usage: 48.7 MB\n",
      "None\n"
     ]
    }
   ],
   "source": [
    "identity_concatted = pd.concat([identity, low_card_id_encoded], axis = 1)\n",
    "print(identity_concatted.info())"
   ]
  },
  {
   "cell_type": "code",
   "execution_count": 135,
   "id": "ac19b74b",
   "metadata": {},
   "outputs": [
    {
     "name": "stdout",
     "output_type": "stream",
     "text": [
      "transaction_concatted.shape before splitting up:  (1053093, 225)\n",
      "train_transaction.shape after splitting up:  (553287, 225)\n",
      "test_transaction.shape after splitting up:  (499806, 225)\n"
     ]
    }
   ],
   "source": [
    "print(\"transaction_concatted.shape before splitting up: \", transaction_concatted.shape)\n",
    "\n",
    "# shape of train_transaction_row_drop was (553287, 394), \n",
    "# shape of test_transaction_row_drop  was (499806, 393)\n",
    "\n",
    "train_transaction = transaction_concatted.iloc[0: train_transaction_row_drop.shape[0]]\n",
    "test_transaction = transaction_concatted.iloc[train_transaction_row_drop.shape[0]:]\n",
    "\n",
    "print(\"train_transaction.shape after splitting up: \", train_transaction.shape)\n",
    "print(\"test_transaction.shape after splitting up: \", test_transaction.shape)"
   ]
  },
  {
   "cell_type": "code",
   "execution_count": 136,
   "id": "f7c3ba90",
   "metadata": {},
   "outputs": [
    {
     "name": "stdout",
     "output_type": "stream",
     "text": [
      "identity_concatted.shape before splitting up:  (265911, 31)\n",
      "train_identity.shape after splitting up:  (134833, 31)\n",
      "test_identity.shape after splitting up:  (131078, 31)\n"
     ]
    }
   ],
   "source": [
    "print(\"identity_concatted.shape before splitting up: \", identity_concatted.shape)\n",
    "\n",
    "# shape of train_identity was (134833, 41)\n",
    "# shape of test_identity was (131078, 41)\n",
    "\n",
    "train_identity = identity_concatted.iloc[0:train_id_row_drop.shape[0]]\n",
    "test_identity = identity_concatted.iloc[train_id_row_drop.shape[0]:]\n",
    "\n",
    "print(\"train_identity.shape after splitting up: \", train_identity.shape)\n",
    "print(\"test_identity.shape after splitting up: \", test_identity.shape)"
   ]
  },
  {
   "cell_type": "code",
   "execution_count": 137,
   "id": "eedbb0fb",
   "metadata": {},
   "outputs": [],
   "source": [
    "train = pd.merge(train_transaction, train_identity, on='TransactionID', how='left')\n",
    "test = pd.merge(test_transaction, test_identity, on='TransactionID', how='left')"
   ]
  },
  {
   "cell_type": "code",
   "execution_count": 138,
   "id": "5653f34c",
   "metadata": {},
   "outputs": [
    {
     "data": {
      "text/plain": [
       "TransactionID          0\n",
       "isFraud                0\n",
       "TransactionDT          0\n",
       "TransactionAmt         0\n",
       "card1                  0\n",
       "                   ...  \n",
       "id_35             553287\n",
       "id_36             553287\n",
       "id_37             553287\n",
       "id_38             553287\n",
       "DeviceType        553287\n",
       "Length: 255, dtype: int64"
      ]
     },
     "execution_count": 138,
     "metadata": {},
     "output_type": "execute_result"
    }
   ],
   "source": [
    "\n",
    "train.isnull().sum()"
   ]
  },
  {
   "cell_type": "code",
   "execution_count": 139,
   "id": "274198a9",
   "metadata": {},
   "outputs": [
    {
     "data": {
      "text/plain": [
       "TransactionID          0\n",
       "isFraud                0\n",
       "TransactionDT          0\n",
       "TransactionAmt         0\n",
       "card1                  0\n",
       "                   ...  \n",
       "id_35             499806\n",
       "id_36             499806\n",
       "id_37             499806\n",
       "id_38             499806\n",
       "DeviceType        499806\n",
       "Length: 255, dtype: int64"
      ]
     },
     "execution_count": 139,
     "metadata": {},
     "output_type": "execute_result"
    }
   ],
   "source": [
    "test.isnull().sum()"
   ]
  },
  {
   "cell_type": "code",
   "execution_count": 140,
   "id": "9330724f",
   "metadata": {},
   "outputs": [],
   "source": [
    "train.to_csv('data/train_after_missing_value.csv')\n",
    "test.to_csv('data/test_after_missing_value.csv')"
   ]
  }
 ],
 "metadata": {
  "kernelspec": {
   "display_name": "Python 3 (ipykernel)",
   "language": "python",
   "name": "python3"
  },
  "language_info": {
   "codemirror_mode": {
    "name": "ipython",
    "version": 3
   },
   "file_extension": ".py",
   "mimetype": "text/x-python",
   "name": "python",
   "nbconvert_exporter": "python",
   "pygments_lexer": "ipython3",
   "version": "3.11.5"
  }
 },
 "nbformat": 4,
 "nbformat_minor": 5
}
