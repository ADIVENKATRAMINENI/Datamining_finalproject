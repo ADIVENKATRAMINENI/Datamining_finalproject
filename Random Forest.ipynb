{
 "cells": [
  {
   "cell_type": "markdown",
   "id": "4ba81227",
   "metadata": {},
   "source": [
    "# 1 Load libraries"
   ]
  },
  {
   "cell_type": "code",
   "execution_count": 1,
   "id": "62eddbac",
   "metadata": {},
   "outputs": [],
   "source": [
    "import numpy as np\n",
    "import pandas as pd\n",
    "import matplotlib.pylab as plt\n",
    "import itertools\n",
    "import sklearn.metrics as metrics\n",
    "from sklearn.metrics import confusion_matrix\n",
    "from sklearn.model_selection import train_test_split\n",
    "from sklearn.metrics import f1_score, accuracy_score, recall_score, precision_score, roc_auc_score\n",
    "from sklearn.metrics import roc_auc_score\n",
    "\n",
    "#Random Forest\n",
    "import sklearn.ensemble as ensemble\n",
    "from sklearn.model_selection import GridSearchCV"
   ]
  },
  {
   "cell_type": "code",
   "execution_count": 2,
   "id": "f7d675de",
   "metadata": {},
   "outputs": [],
   "source": [
    "train = pd.read_csv('data/train_after_missing_value.csv')\n",
    "test = pd.read_csv('data/test_after_missing_value.csv')"
   ]
  },
  {
   "cell_type": "code",
   "execution_count": 3,
   "id": "97bbc85c",
   "metadata": {},
   "outputs": [],
   "source": [
    "train.fillna(999,inplace=True)\n",
    "test.fillna(999,inplace=True)\n"
   ]
  },
  {
   "cell_type": "code",
   "execution_count": 4,
   "id": "efc9bf7e",
   "metadata": {},
   "outputs": [
    {
     "name": "stdout",
     "output_type": "stream",
     "text": [
      "(553287, 256)\n",
      "(499806, 256)\n"
     ]
    }
   ],
   "source": [
    "print(train.shape)\n",
    "print(test.shape)"
   ]
  },
  {
   "cell_type": "code",
   "execution_count": 5,
   "id": "716dfa13",
   "metadata": {},
   "outputs": [],
   "source": [
    "import re\n",
    "train = train.rename(columns = lambda x:re.sub(':', '', x))\n",
    "test = test.rename(columns = lambda x:re.sub(':', '', x))"
   ]
  },
  {
   "cell_type": "code",
   "execution_count": 6,
   "id": "25652895",
   "metadata": {},
   "outputs": [],
   "source": [
    "y = pd.DataFrame(train['isFraud'])\n",
    "X = train.drop(columns=['isFraud'])\n",
    "X_test = test.drop(columns=['isFraud'])"
   ]
  },
  {
   "cell_type": "code",
   "execution_count": 7,
   "id": "4c6b1c99",
   "metadata": {},
   "outputs": [],
   "source": [
    "X_train, X_val, y_train, y_val = train_test_split(X, y, test_size=0.3)"
   ]
  },
  {
   "cell_type": "markdown",
   "id": "5dd7157a",
   "metadata": {},
   "source": [
    "# 3.1 Random Forest\n",
    "3.1.1 Training"
   ]
  },
  {
   "cell_type": "code",
   "execution_count": 8,
   "id": "0c4b3a9b",
   "metadata": {},
   "outputs": [
    {
     "data": {
      "text/plain": [
       "0"
      ]
     },
     "execution_count": 8,
     "metadata": {},
     "output_type": "execute_result"
    }
   ],
   "source": [
    "train.fillna(999,inplace=True)\n",
    "train.isnull().sum().sum()"
   ]
  },
  {
   "cell_type": "code",
   "execution_count": 9,
   "id": "5060eb40",
   "metadata": {},
   "outputs": [
    {
     "name": "stderr",
     "output_type": "stream",
     "text": [
      "C:\\Users\\ar194371\\AppData\\Local\\anaconda3\\Lib\\site-packages\\sklearn\\base.py:1151: DataConversionWarning: A column-vector y was passed when a 1d array was expected. Please change the shape of y to (n_samples,), for example using ravel().\n",
      "  return fit_method(estimator, *args, **kwargs)\n",
      "C:\\Users\\ar194371\\AppData\\Local\\anaconda3\\Lib\\site-packages\\sklearn\\base.py:1151: DataConversionWarning: A column-vector y was passed when a 1d array was expected. Please change the shape of y to (n_samples,), for example using ravel().\n",
      "  return fit_method(estimator, *args, **kwargs)\n",
      "C:\\Users\\ar194371\\AppData\\Local\\anaconda3\\Lib\\site-packages\\sklearn\\base.py:1151: DataConversionWarning: A column-vector y was passed when a 1d array was expected. Please change the shape of y to (n_samples,), for example using ravel().\n",
      "  return fit_method(estimator, *args, **kwargs)\n",
      "C:\\Users\\ar194371\\AppData\\Local\\anaconda3\\Lib\\site-packages\\sklearn\\base.py:1151: DataConversionWarning: A column-vector y was passed when a 1d array was expected. Please change the shape of y to (n_samples,), for example using ravel().\n",
      "  return fit_method(estimator, *args, **kwargs)\n",
      "C:\\Users\\ar194371\\AppData\\Local\\anaconda3\\Lib\\site-packages\\sklearn\\base.py:1151: DataConversionWarning: A column-vector y was passed when a 1d array was expected. Please change the shape of y to (n_samples,), for example using ravel().\n",
      "  return fit_method(estimator, *args, **kwargs)\n"
     ]
    },
    {
     "name": "stdout",
     "output_type": "stream",
     "text": [
      "RandomForest...\n",
      "              precision    recall  f1-score   support\n",
      "\n",
      "         0.0       0.98      1.00      0.99    160179\n",
      "         1.0       0.90      0.34      0.49      5808\n",
      "\n",
      "    accuracy                           0.98    165987\n",
      "   macro avg       0.94      0.67      0.74    165987\n",
      "weighted avg       0.97      0.98      0.97    165987\n",
      "\n",
      "RandomForest AUC...\n",
      "AUC = 0.6695\n"
     ]
    },
    {
     "data": {
      "text/plain": [
       "{'criterion': 'entropy',\n",
       " 'max_depth': 10,\n",
       " 'max_features': 0.4,\n",
       " 'min_samples_split': 6,\n",
       " 'n_estimators': 14}"
      ]
     },
     "execution_count": 9,
     "metadata": {},
     "output_type": "execute_result"
    }
   ],
   "source": [
    "X_train, X_test, y_train, y_test = train_test_split(X, y, test_size=0.3, random_state=123)\n",
    "\n",
    "param_grid = {\n",
    "    'criterion':['entropy'],\n",
    "    'max_depth':[10], # >   \n",
    "    'n_estimators':[14],  # >  \n",
    "    'max_features':[0.4], # >  \n",
    "    'min_samples_split':[6]  \n",
    "}\n",
    "\n",
    "rfc = ensemble.RandomForestClassifier()\n",
    "rfc_cv = GridSearchCV(estimator=rfc, param_grid=param_grid, scoring='roc_auc', cv=4)\n",
    "rfc_cv.fit(X_train, y_train)\n",
    "\n",
    "test_est = rfc_cv.predict(X_test)\n",
    "print('RandomForest...')\n",
    "print(metrics.classification_report(y_test, test_est))\n",
    "print('RandomForest AUC...')\n",
    "fpr_test, tpr_test, th_test = metrics.roc_curve(y_test, test_est) # roc\n",
    "print('AUC = %.4f' %metrics.auc(fpr_test, tpr_test))\n",
    "\n",
    "rfc_cv.best_params_"
   ]
  },
  {
   "cell_type": "markdown",
   "id": "1cd8d0c3",
   "metadata": {},
   "source": [
    "\n",
    "3.3.2 Confusion matrix\n"
   ]
  },
  {
   "cell_type": "code",
   "execution_count": 10,
   "id": "7ae1a019",
   "metadata": {},
   "outputs": [
    {
     "data": {
      "text/plain": [
       "97.56547199479478"
      ]
     },
     "execution_count": 10,
     "metadata": {},
     "output_type": "execute_result"
    }
   ],
   "source": [
    "metrics.accuracy_score(y_test, test_est.round())*100"
   ]
  },
  {
   "cell_type": "code",
   "execution_count": 11,
   "id": "96f28176",
   "metadata": {},
   "outputs": [],
   "source": [
    "def plot_confusion_matrix(cm, classes,\n",
    "                          normalize=False,\n",
    "                          title='Confusion matrix',\n",
    "                          cmap=plt.cm.Blues):\n",
    "    plt.imshow(cm, interpolation='nearest', cmap=cmap)\n",
    "    plt.title(title)\n",
    "    plt.colorbar()\n",
    "    tick_marks = np.arange(len(classes))\n",
    "    plt.xticks(tick_marks, classes, rotation=45)\n",
    "    plt.yticks(tick_marks, classes)\n",
    "    if normalize:\n",
    "        cm = cm.astype('float') / cm.sum(axis=1)[:, np.newaxis]\n",
    "\n",
    "    thresh = cm.max() / 2.\n",
    "    for i, j in itertools.product(range(cm.shape[0]), range(cm.shape[1])):\n",
    "        plt.text(j, i, cm[i, j],\n",
    "                 horizontalalignment=\"center\",\n",
    "                 color=\"white\" if cm[i, j] > thresh else \"black\")\n",
    "\n",
    "    plt.tight_layout()\n",
    "    plt.ylabel('True label')\n",
    "    plt.xlabel('Predicted label')"
   ]
  },
  {
   "cell_type": "code",
   "execution_count": 12,
   "id": "8a27bd2a",
   "metadata": {},
   "outputs": [
    {
     "name": "stdout",
     "output_type": "stream",
     "text": [
      "accuracy = 0.9757\n",
      "auc score = 0.6695\n",
      "recall = 0.3404\n",
      "precision = 0.904\n",
      "f1 score = 0.4946\n"
     ]
    }
   ],
   "source": [
    "acc = accuracy_score(y_test, test_est.round())\n",
    "auc = roc_auc_score(y_test, test_est.round())\n",
    "rec = recall_score(y_test, test_est.round())\n",
    "prec = precision_score(y_test, test_est.round())\n",
    "f1 = f1_score(y_test, test_est.round())\n",
    "print('accuracy =', round(acc, 4))\n",
    "print('auc score =', round(auc, 4))\n",
    "print('recall =',round(rec, 4))\n",
    "print('precision =', round(prec, 4))\n",
    "print('f1 score =', round(f1, 4))"
   ]
  },
  {
   "cell_type": "code",
   "execution_count": 13,
   "id": "8ef0b1d3",
   "metadata": {},
   "outputs": [
    {
     "data": {
      "image/png": "[encoded data removed]",
      "text/plain": [
       "<Figure size 640x480 with 2 Axes>"
      ]
     },
     "metadata": {},
     "output_type": "display_data"
    }
   ],
   "source": [
    "confusion_mtx = confusion_matrix(y_test, test_est.round()) \n",
    "plot_confusion_matrix(confusion_mtx, classes = range(2)) "
   ]
  },
  {
   "cell_type": "code",
   "execution_count": null,
   "id": "dd5e63e7",
   "metadata": {},
   "outputs": [],
   "source": []
  }
 ],
 "metadata": {
  "kernelspec": {
   "display_name": "Python 3 (ipykernel)",
   "language": "python",
   "name": "python3"
  },
  "language_info": {
   "codemirror_mode": {
    "name": "ipython",
    "version": 3
   },
   "file_extension": ".py",
   "mimetype": "text/x-python",
   "name": "python",
   "nbconvert_exporter": "python",
   "pygments_lexer": "ipython3",
   "version": "3.11.5"
  }
 },
 "nbformat": 4,
 "nbformat_minor": 5
}
